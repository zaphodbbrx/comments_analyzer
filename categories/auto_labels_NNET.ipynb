{
 "cells": [
  {
   "cell_type": "code",
   "execution_count": 4,
   "metadata": {
    "collapsed": true
   },
   "outputs": [],
   "source": [
    "import pandas as pd\n",
    "import numpy as np\n",
    "import nltk"
   ]
  },
  {
   "cell_type": "code",
   "execution_count": 2,
   "metadata": {
    "collapsed": true
   },
   "outputs": [],
   "source": [
    "labeled_tot = pd.read_excel('model_labeled.xlsx')"
   ]
  },
  {
   "cell_type": "code",
   "execution_count": 9,
   "metadata": {},
   "outputs": [],
   "source": [
    "labeled_tot['tokens'] = labeled_tot.cleaned.apply(nltk.word_tokenize)"
   ]
  },
  {
   "cell_type": "code",
   "execution_count": 10,
   "metadata": {},
   "outputs": [
    {
     "data": {
      "text/html": [
       "<div>\n",
       "<style scoped>\n",
       "    .dataframe tbody tr th:only-of-type {\n",
       "        vertical-align: middle;\n",
       "    }\n",
       "\n",
       "    .dataframe tbody tr th {\n",
       "        vertical-align: top;\n",
       "    }\n",
       "\n",
       "    .dataframe thead th {\n",
       "        text-align: right;\n",
       "    }\n",
       "</style>\n",
       "<table border=\"1\" class=\"dataframe\">\n",
       "  <thead>\n",
       "    <tr style=\"text-align: right;\">\n",
       "      <th></th>\n",
       "      <th>Unnamed: 0</th>\n",
       "      <th>Unnamed: 0.1</th>\n",
       "      <th>Rating</th>\n",
       "      <th>Review</th>\n",
       "      <th>lang</th>\n",
       "      <th>cleaned</th>\n",
       "      <th>model_label</th>\n",
       "      <th>tokens</th>\n",
       "    </tr>\n",
       "  </thead>\n",
       "  <tbody>\n",
       "    <tr>\n",
       "      <th>0</th>\n",
       "      <td>5</td>\n",
       "      <td>5</td>\n",
       "      <td>3</td>\n",
       "      <td>I really like this game, I am currently on lev...</td>\n",
       "      <td>en</td>\n",
       "      <td>I really like this game , I be currently on le...</td>\n",
       "      <td>5</td>\n",
       "      <td>[I, really, like, this, game, ,, I, be, curren...</td>\n",
       "    </tr>\n",
       "    <tr>\n",
       "      <th>1</th>\n",
       "      <td>6</td>\n",
       "      <td>6</td>\n",
       "      <td>3</td>\n",
       "      <td>I like it I can just never get good weapons th...</td>\n",
       "      <td>en</td>\n",
       "      <td>I like it I can just never get good weapon the...</td>\n",
       "      <td>5</td>\n",
       "      <td>[I, like, it, I, can, just, never, get, good, ...</td>\n",
       "    </tr>\n",
       "    <tr>\n",
       "      <th>2</th>\n",
       "      <td>10</td>\n",
       "      <td>10</td>\n",
       "      <td>5</td>\n",
       "      <td>I really love this game it contains strategy a...</td>\n",
       "      <td>en</td>\n",
       "      <td>I really love this game it contain strategy an...</td>\n",
       "      <td>0</td>\n",
       "      <td>[I, really, love, this, game, it, contain, str...</td>\n",
       "    </tr>\n",
       "    <tr>\n",
       "      <th>3</th>\n",
       "      <td>17</td>\n",
       "      <td>17</td>\n",
       "      <td>5</td>\n",
       "      <td>It good to play the game</td>\n",
       "      <td>en</td>\n",
       "      <td>It good to play the game</td>\n",
       "      <td>0</td>\n",
       "      <td>[It, good, to, play, the, game]</td>\n",
       "    </tr>\n",
       "    <tr>\n",
       "      <th>4</th>\n",
       "      <td>25</td>\n",
       "      <td>25</td>\n",
       "      <td>4</td>\n",
       "      <td>Nice game</td>\n",
       "      <td>en</td>\n",
       "      <td>Nice game</td>\n",
       "      <td>0</td>\n",
       "      <td>[Nice, game]</td>\n",
       "    </tr>\n",
       "  </tbody>\n",
       "</table>\n",
       "</div>"
      ],
      "text/plain": [
       "   Unnamed: 0  Unnamed: 0.1  Rating  \\\n",
       "0           5             5       3   \n",
       "1           6             6       3   \n",
       "2          10            10       5   \n",
       "3          17            17       5   \n",
       "4          25            25       4   \n",
       "\n",
       "                                              Review lang  \\\n",
       "0  I really like this game, I am currently on lev...   en   \n",
       "1  I like it I can just never get good weapons th...   en   \n",
       "2  I really love this game it contains strategy a...   en   \n",
       "3                           It good to play the game   en   \n",
       "4                                          Nice game   en   \n",
       "\n",
       "                                             cleaned  model_label  \\\n",
       "0  I really like this game , I be currently on le...            5   \n",
       "1  I like it I can just never get good weapon the...            5   \n",
       "2  I really love this game it contain strategy an...            0   \n",
       "3                           It good to play the game            0   \n",
       "4                                          Nice game            0   \n",
       "\n",
       "                                              tokens  \n",
       "0  [I, really, like, this, game, ,, I, be, curren...  \n",
       "1  [I, like, it, I, can, just, never, get, good, ...  \n",
       "2  [I, really, love, this, game, it, contain, str...  \n",
       "3                    [It, good, to, play, the, game]  \n",
       "4                                       [Nice, game]  "
      ]
     },
     "execution_count": 10,
     "metadata": {},
     "output_type": "execute_result"
    }
   ],
   "source": [
    "labeled_tot.head()"
   ]
  },
  {
   "cell_type": "code",
   "execution_count": 3,
   "metadata": {},
   "outputs": [
    {
     "name": "stderr",
     "output_type": "stream",
     "text": [
      "Using TensorFlow backend.\n"
     ]
    }
   ],
   "source": [
    "from sklearn.feature_extraction.text import TfidfVectorizer\n",
    "\n",
    "from keras.preprocessing import sequence\n",
    "from keras.preprocessing.sequence import pad_sequences\n",
    "from keras.utils import np_utils\n",
    "from keras.models import Sequential\n",
    "from keras.layers.core import Dense, Dropout, Activation\n",
    "from keras.layers.embeddings import Embedding\n",
    "from keras.layers.recurrent import LSTM\n",
    "#from keras.layers.cudnn_recurrent import CuDNNLSTM\n",
    "from keras.layers.convolutional import Conv1D\n",
    "from keras.layers.convolutional import MaxPooling1D\n",
    "from keras.layers import TimeDistributed\n",
    "from keras.models import load_model\n",
    "from keras.utils import Sequence\n",
    "from keras.preprocessing.text import Tokenizer\n",
    "import keras.backend as K\n",
    "import gensim\n",
    "from sklearn.model_selection import train_test_split\n",
    "from keras import regularizers\n",
    "from keras.utils import to_categorical\n",
    "from keras.callbacks import ModelCheckpoint\n",
    "from sklearn.utils.class_weight import compute_class_weight"
   ]
  },
  {
   "cell_type": "code",
   "execution_count": 14,
   "metadata": {},
   "outputs": [],
   "source": [
    "t = Tokenizer()\n",
    "t.fit_on_texts(labeled_tot.cleaned.tolist())\n",
    "vocab_size = len(t.word_index) + 1\n",
    "# integer encode the documents\n",
    "encoded_docs = t.texts_to_sequences(labeled_tot.cleaned.tolist())\n",
    "max_length = labeled_tot.tokens.apply(len).max()\n",
    "feats = encoded_docs\n",
    "labels = to_categorical(labeled_tot.model_label)\n",
    "\n",
    "X_train, X_test, y_train, y_test = train_test_split(feats, labels, test_size=0.2)\n",
    "X_train = sequence.pad_sequences(X_train, maxlen=max_length)\n",
    "X_test = sequence.pad_sequences(X_test, maxlen=max_length)"
   ]
  },
  {
   "cell_type": "code",
   "execution_count": null,
   "metadata": {},
   "outputs": [
    {
     "name": "stdout",
     "output_type": "stream",
     "text": [
      "Train on 15825 samples, validate on 3957 samples\n",
      "Epoch 1/7\n",
      "15800/15825 [============================>.] - ETA: 0s - loss: 0.7183 - categorical_accuracy: 0.7201\n",
      "Epoch 00001: val_categorical_accuracy improved from -inf to 0.73086, saving model to weights.hdf5\n",
      "15825/15825 [==============================] - 464s 29ms/step - loss: 0.7178 - categorical_accuracy: 0.7202 - val_loss: 0.5558 - val_categorical_accuracy: 0.7309\n",
      "Epoch 2/7\n",
      "15800/15825 [============================>.] - ETA: 0s - loss: 0.5606 - categorical_accuracy: 0.7259\n",
      "Epoch 00002: val_categorical_accuracy did not improve\n",
      "15825/15825 [==============================] - 462s 29ms/step - loss: 0.5608 - categorical_accuracy: 0.7259 - val_loss: 0.5476 - val_categorical_accuracy: 0.7309\n",
      "Epoch 3/7\n",
      "13000/15825 [=======================>......] - ETA: 1:14 - loss: 0.5531 - categorical_accuracy: 0.7275"
     ]
    }
   ],
   "source": [
    "class_weight = compute_class_weight('balanced'\n",
    "                                               ,[0,1,2,3,4,5]\n",
    "                                               ,labeled_tot.model_label.apply(int).tolist())\n",
    "model = Sequential()\n",
    "model.add(Embedding(vocab_size, 256, \n",
    "                    input_length=max_length,\n",
    "                    #input_shape = (None,max_length),\n",
    "                    embeddings_regularizer = regularizers.l1(1e-5)))\n",
    "model.add(Dropout(0.5))\n",
    "#model.add(Conv1D(filters=700, kernel_size=2, padding='same', activation='tanh'))\n",
    "#model.add(Conv1D(filters=7, kernel_size=2, padding='same', activation='tanh'))\n",
    "#model.add(Conv1D(filters=50, kernel_size=3, padding='same', activation='sigmoid'))\n",
    "#model.add(MaxPooling1D(pool_size=2))\n",
    "#model.add(Flatten())\n",
    "#model.add(Dropout(0.7))\n",
    "model.add(LSTM(100, activation = 'tanh', kernel_regularizer = regularizers.l1(1e-5)))\n",
    "model.add(Dropout(0.5))\n",
    "model.add(Dense(6, activation='softmax'))\n",
    "model.compile(loss='categorical_hinge', optimizer='adam', metrics=['categorical_accuracy'])\n",
    "\n",
    "checkpointer = ModelCheckpoint(filepath='weights.hdf5',\n",
    "                               verbose=1, save_best_only=True,\n",
    "                               monitor = 'val_categorical_accuracy')\n",
    "model.fit(X_train, y_train, epochs=7, batch_size=100,\n",
    "          validation_data = [X_test,y_test], callbacks=[checkpointer],\n",
    "         class_weight = class_weight)"
   ]
  },
  {
   "cell_type": "code",
   "execution_count": null,
   "metadata": {
    "collapsed": true
   },
   "outputs": [],
   "source": []
  }
 ],
 "metadata": {
  "kernelspec": {
   "display_name": "Python 3",
   "language": "python",
   "name": "python3"
  },
  "language_info": {
   "codemirror_mode": {
    "name": "ipython",
    "version": 3
   },
   "file_extension": ".py",
   "mimetype": "text/x-python",
   "name": "python",
   "nbconvert_exporter": "python",
   "pygments_lexer": "ipython3",
   "version": "3.6.4"
  }
 },
 "nbformat": 4,
 "nbformat_minor": 2
}
