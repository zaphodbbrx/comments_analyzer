{
 "cells": [
  {
   "cell_type": "code",
   "execution_count": 2,
   "metadata": {},
   "outputs": [],
   "source": [
    "import pandas as pd\n",
    "import numpy as np\n",
    "from langdetect import detect\n",
    "import re"
   ]
  },
  {
   "cell_type": "code",
   "execution_count": 2,
   "metadata": {},
   "outputs": [],
   "source": [
    "comments1 = pd.read_excel('../data/2_5242423354782122371.xlsx')"
   ]
  },
  {
   "cell_type": "code",
   "execution_count": 3,
   "metadata": {},
   "outputs": [],
   "source": [
    "comments2 = pd.read_excel('../data/2_5242423354782122372.xlsx')"
   ]
  },
  {
   "cell_type": "code",
   "execution_count": 4,
   "metadata": {},
   "outputs": [
    {
     "data": {
      "text/html": [
       "<div>\n",
       "<style scoped>\n",
       "    .dataframe tbody tr th:only-of-type {\n",
       "        vertical-align: middle;\n",
       "    }\n",
       "\n",
       "    .dataframe tbody tr th {\n",
       "        vertical-align: top;\n",
       "    }\n",
       "\n",
       "    .dataframe thead th {\n",
       "        text-align: right;\n",
       "    }\n",
       "</style>\n",
       "<table border=\"1\" class=\"dataframe\">\n",
       "  <thead>\n",
       "    <tr style=\"text-align: right;\">\n",
       "      <th></th>\n",
       "      <th>Platform</th>\n",
       "      <th>Country</th>\n",
       "      <th>Date</th>\n",
       "      <th>App ID</th>\n",
       "      <th>App Name</th>\n",
       "      <th>Publisher ID</th>\n",
       "      <th>Publisher Name</th>\n",
       "      <th>User</th>\n",
       "      <th>Version</th>\n",
       "      <th>Rating</th>\n",
       "      <th>Title</th>\n",
       "      <th>Review</th>\n",
       "    </tr>\n",
       "  </thead>\n",
       "  <tbody>\n",
       "    <tr>\n",
       "      <th>0</th>\n",
       "      <td>iOS</td>\n",
       "      <td>United States</td>\n",
       "      <td>02/27/2018</td>\n",
       "      <td>640111933</td>\n",
       "      <td>Pixel Gun 3D</td>\n",
       "      <td>561634640</td>\n",
       "      <td>Cubic Games</td>\n",
       "      <td>lukieboy54</td>\n",
       "      <td>13.5.3</td>\n",
       "      <td>5</td>\n",
       "      <td>So awesome!!!</td>\n",
       "      <td>This is the most fun app i ever played but has...</td>\n",
       "    </tr>\n",
       "    <tr>\n",
       "      <th>1</th>\n",
       "      <td>iOS</td>\n",
       "      <td>United States</td>\n",
       "      <td>02/27/2018</td>\n",
       "      <td>640111933</td>\n",
       "      <td>Pixel Gun 3D</td>\n",
       "      <td>561634640</td>\n",
       "      <td>Cubic Games</td>\n",
       "      <td>BeastyTwin7</td>\n",
       "      <td>13.5.3</td>\n",
       "      <td>5</td>\n",
       "      <td>Amazing Game</td>\n",
       "      <td>Why is it so hard to get a mythical pet from b...</td>\n",
       "    </tr>\n",
       "    <tr>\n",
       "      <th>2</th>\n",
       "      <td>iOS</td>\n",
       "      <td>United States</td>\n",
       "      <td>02/27/2018</td>\n",
       "      <td>640111933</td>\n",
       "      <td>Pixel Gun 3D</td>\n",
       "      <td>561634640</td>\n",
       "      <td>Cubic Games</td>\n",
       "      <td>Ymartinez1748</td>\n",
       "      <td>13.5.3</td>\n",
       "      <td>5</td>\n",
       "      <td>Good game</td>\n",
       "      <td>Ti is a fun game to play the have cool weapons...</td>\n",
       "    </tr>\n",
       "    <tr>\n",
       "      <th>3</th>\n",
       "      <td>iOS</td>\n",
       "      <td>United States</td>\n",
       "      <td>02/27/2018</td>\n",
       "      <td>640111933</td>\n",
       "      <td>Pixel Gun 3D</td>\n",
       "      <td>561634640</td>\n",
       "      <td>Cubic Games</td>\n",
       "      <td>savaga tbh</td>\n",
       "      <td>13.5.3</td>\n",
       "      <td>5</td>\n",
       "      <td>Best app</td>\n",
       "      <td>Is a great app and everyone should get it.</td>\n",
       "    </tr>\n",
       "    <tr>\n",
       "      <th>4</th>\n",
       "      <td>iOS</td>\n",
       "      <td>United States</td>\n",
       "      <td>02/27/2018</td>\n",
       "      <td>640111933</td>\n",
       "      <td>Pixel Gun 3D</td>\n",
       "      <td>561634640</td>\n",
       "      <td>Cubic Games</td>\n",
       "      <td>recethan</td>\n",
       "      <td>13.5.3</td>\n",
       "      <td>5</td>\n",
       "      <td>Suggestion</td>\n",
       "      <td>I love this game and I play it all the time an...</td>\n",
       "    </tr>\n",
       "  </tbody>\n",
       "</table>\n",
       "</div>"
      ],
      "text/plain": [
       "  Platform        Country        Date     App ID      App Name  Publisher ID  \\\n",
       "0      iOS  United States  02/27/2018  640111933  Pixel Gun 3D     561634640   \n",
       "1      iOS  United States  02/27/2018  640111933  Pixel Gun 3D     561634640   \n",
       "2      iOS  United States  02/27/2018  640111933  Pixel Gun 3D     561634640   \n",
       "3      iOS  United States  02/27/2018  640111933  Pixel Gun 3D     561634640   \n",
       "4      iOS  United States  02/27/2018  640111933  Pixel Gun 3D     561634640   \n",
       "\n",
       "  Publisher Name           User Version  Rating          Title  \\\n",
       "0    Cubic Games     lukieboy54  13.5.3       5  So awesome!!!   \n",
       "1    Cubic Games    BeastyTwin7  13.5.3       5   Amazing Game   \n",
       "2    Cubic Games  Ymartinez1748  13.5.3       5      Good game   \n",
       "3    Cubic Games     savaga tbh  13.5.3       5       Best app   \n",
       "4    Cubic Games       recethan  13.5.3       5     Suggestion   \n",
       "\n",
       "                                              Review  \n",
       "0  This is the most fun app i ever played but has...  \n",
       "1  Why is it so hard to get a mythical pet from b...  \n",
       "2  Ti is a fun game to play the have cool weapons...  \n",
       "3         Is a great app and everyone should get it.  \n",
       "4  I love this game and I play it all the time an...  "
      ]
     },
     "execution_count": 4,
     "metadata": {},
     "output_type": "execute_result"
    }
   ],
   "source": [
    "comments2.head()"
   ]
  },
  {
   "cell_type": "code",
   "execution_count": 20,
   "metadata": {},
   "outputs": [],
   "source": [
    "comments = pd.concat([comments1[['Rating', 'Review']], comments2[['Rating', 'Review']]], axis = 0)"
   ]
  },
  {
   "cell_type": "code",
   "execution_count": 21,
   "metadata": {},
   "outputs": [],
   "source": [
    "def detect_lang(x):\n",
    "    try:\n",
    "        return detect(x)\n",
    "    except:\n",
    "        return 'unknown'\n",
    "comments['lang'] = comments.Review.apply(detect_lang)"
   ]
  },
  {
   "cell_type": "code",
   "execution_count": 22,
   "metadata": {},
   "outputs": [
    {
     "data": {
      "text/plain": [
       "en         19782\n",
       "es         10808\n",
       "ru          7937\n",
       "ko          7450\n",
       "pt          5119\n",
       "de          4128\n",
       "pl          2087\n",
       "fr          1996\n",
       "ja          1902\n",
       "so          1834\n",
       "it          1479\n",
       "id          1145\n",
       "tr          1126\n",
       "af           990\n",
       "th           974\n",
       "sl           930\n",
       "ca           922\n",
       "vi           920\n",
       "nl           803\n",
       "fi           770\n",
       "ro           765\n",
       "tl           760\n",
       "bg           748\n",
       "no           692\n",
       "unknown      656\n",
       "hr           580\n",
       "uk           490\n",
       "sw           415\n",
       "et           401\n",
       "hu           387\n",
       "mk           340\n",
       "zh-cn        307\n",
       "cy           288\n",
       "da           284\n",
       "lt           275\n",
       "sk           262\n",
       "sv           238\n",
       "cs           184\n",
       "el           159\n",
       "sq           129\n",
       "lv           107\n",
       "zh-tw        106\n",
       "ar            17\n",
       "ur             3\n",
       "he             2\n",
       "mr             1\n",
       "fa             1\n",
       "Name: lang, dtype: int64"
      ]
     },
     "execution_count": 22,
     "metadata": {},
     "output_type": "execute_result"
    }
   ],
   "source": [
    "comments.lang.value_counts()"
   ]
  },
  {
   "cell_type": "code",
   "execution_count": 23,
   "metadata": {},
   "outputs": [
    {
     "data": {
      "text/html": [
       "<div>\n",
       "<style scoped>\n",
       "    .dataframe tbody tr th:only-of-type {\n",
       "        vertical-align: middle;\n",
       "    }\n",
       "\n",
       "    .dataframe tbody tr th {\n",
       "        vertical-align: top;\n",
       "    }\n",
       "\n",
       "    .dataframe thead th {\n",
       "        text-align: right;\n",
       "    }\n",
       "</style>\n",
       "<table border=\"1\" class=\"dataframe\">\n",
       "  <thead>\n",
       "    <tr style=\"text-align: right;\">\n",
       "      <th></th>\n",
       "      <th>Rating</th>\n",
       "      <th>Review</th>\n",
       "      <th>lang</th>\n",
       "    </tr>\n",
       "  </thead>\n",
       "  <tbody>\n",
       "    <tr>\n",
       "      <th>0</th>\n",
       "      <td>4</td>\n",
       "      <td>Очень хорошая игра:)</td>\n",
       "      <td>ru</td>\n",
       "    </tr>\n",
       "    <tr>\n",
       "      <th>1</th>\n",
       "      <td>5</td>\n",
       "      <td>Ich habe es vor 3 wochen runtergeladen war all...</td>\n",
       "      <td>de</td>\n",
       "    </tr>\n",
       "    <tr>\n",
       "      <th>2</th>\n",
       "      <td>5</td>\n",
       "      <td>Me encanta y soy manucraft</td>\n",
       "      <td>es</td>\n",
       "    </tr>\n",
       "    <tr>\n",
       "      <th>3</th>\n",
       "      <td>4</td>\n",
       "      <td>E destul de bun jocul dar la grafica mai trebu...</td>\n",
       "      <td>ro</td>\n",
       "    </tr>\n",
       "    <tr>\n",
       "      <th>4</th>\n",
       "      <td>5</td>\n",
       "      <td>Bueno me gustan los juegos de pistolas</td>\n",
       "      <td>es</td>\n",
       "    </tr>\n",
       "  </tbody>\n",
       "</table>\n",
       "</div>"
      ],
      "text/plain": [
       "   Rating                                             Review lang\n",
       "0       4                               Очень хорошая игра:)   ru\n",
       "1       5  Ich habe es vor 3 wochen runtergeladen war all...   de\n",
       "2       5                         Me encanta y soy manucraft   es\n",
       "3       4  E destul de bun jocul dar la grafica mai trebu...   ro\n",
       "4       5             Bueno me gustan los juegos de pistolas   es"
      ]
     },
     "execution_count": 23,
     "metadata": {},
     "output_type": "execute_result"
    }
   ],
   "source": [
    "comments.head()"
   ]
  },
  {
   "cell_type": "code",
   "execution_count": 3,
   "metadata": {},
   "outputs": [],
   "source": [
    "#comments.to_csv('../data/comments_lang.csv')\n",
    "comments = pd.read_csv('../data/comments_lang.csv')"
   ]
  },
  {
   "cell_type": "code",
   "execution_count": 4,
   "metadata": {},
   "outputs": [],
   "source": [
    "comments_en = comments[comments.lang == 'en']\n",
    "n_train = 13800\n",
    "comments_en_train = comments_en.iloc[:n_train,:].sample(frac = 1)\n",
    "comments_en_test = comments_en.iloc[n_train:,:].sample(frac = 1)"
   ]
  },
  {
   "cell_type": "code",
   "execution_count": 66,
   "metadata": {},
   "outputs": [],
   "source": [
    "comments_en_test.to_excel('test_en.xlsx')"
   ]
  },
  {
   "cell_type": "code",
   "execution_count": 5,
   "metadata": {},
   "outputs": [
    {
     "data": {
      "text/plain": [
       "(13800, 4)"
      ]
     },
     "execution_count": 5,
     "metadata": {},
     "output_type": "execute_result"
    }
   ],
   "source": [
    "comments_en_train.shape"
   ]
  },
  {
   "cell_type": "code",
   "execution_count": 264,
   "metadata": {},
   "outputs": [],
   "source": [
    "#comments_en_train.iloc[:1000,:].to_excel('manual_labels.xlsx')"
   ]
  },
  {
   "cell_type": "code",
   "execution_count": 269,
   "metadata": {},
   "outputs": [],
   "source": [
    "#comments_en_train.iloc[1000:,:].to_excel('manual_unlabeled.xlsx')"
   ]
  },
  {
   "cell_type": "code",
   "execution_count": 9,
   "metadata": {},
   "outputs": [],
   "source": [
    "from __future__ import print_function\n",
    "from time import time\n",
    "\n",
    "from sklearn.feature_extraction.text import TfidfVectorizer, CountVectorizer\n",
    "from sklearn.decomposition import NMF, LatentDirichletAllocation"
   ]
  },
  {
   "cell_type": "code",
   "execution_count": 29,
   "metadata": {},
   "outputs": [
    {
     "name": "stdout",
     "output_type": "stream",
     "text": [
      "Extracting tf features for LDA...\n",
      "done in 0.871s.\n",
      "Fitting LDA models with tf features, n_samples=13800 and n_features=1000...\n",
      "done in 11.116s.\n",
      "\n",
      "Topics in LDA model:\n",
      "Topic #0: game' 'best' 'best game' 'update' 'played' 'amazing' 'new update' 'game played' 'game best' 'new' 'world' 'app' 'sucks' 'game amazing' 'best game played' 'shooting' 'says' 'fps' 'life' 'game world' 'shooting game' 'amazing game' 'best game world' 'mobile' 'updated' 'update game' 'best shooting' 'game update' 'game best game' 'think best' 'best shooting game' 'store' 'worst' 'google play' 'fps game' 'think best game' 'liked' 'yes' 'best fps' 'recommend' 'best pixel' 'love game best' 'update sucks' 'far' 'android' 'best game play' 'best shooter' 'played life' 'seen' 'wait\n",
      "Topic #1: make' 'awesome' 'guns' 'new' 'game' 'awsome' 'loved' 'update' 'weapons' 'pls' 'awesome game' 'shot' 'campaign' 've' 'armor' 'addicting' 'skins' 'bring' 'skin' 'updates' 'things' 'hope' 'rifle' 've played' 'map' 'pets' 'lots' 'make game' 'champion' 'game make' 'old' 'game ve' 'boring' 'storage' 'easier' 'loved game' 'really' 'different' 'new guns' 'plus' 'terrible' 'kill' 'bugs' 'nerf' 'game awsome' 'game ve played' 'weapon' 'cheaper' 'tho' 'sell\n",
      "Topic #2: gun' 'pixel' 'pixel gun' 'games' '3d' 'gun 3d' 'weapons' 'pixel gun 3d' 'game' 'like' 'needs' 'new' 'change' 'pls' 'used' 'player' 'weapon' 'remove' 'op' 'gun game' 'trash' 'play' 'best games' 'lot' 'prices' 'job' 'spend' 'better' 'story' 'ur' 'old' 'guys' 'thx' 'mean' 'app' 'horrible' 'mode' 'buy' 'high' 'days' 'stuff' 'mini' 'league' 'im' 'overpowered' 'anymore' 'played' 'pls fix' 'played game' 'best gun\n",
      "Topic #3: love' 'cool' 'game' 'great' 'love game' 'great game' 'super' 'cool game' 'game cool' 'game great' 'game love' 'time' 'pretty' 'controls' 'killer' 'time killer' 'trop' 'really cool' 'great time' 'super cool' 'pretty good' 'es' 'great time killer' 'trop cool' 'control' 'super fun' 'great graphics' 'cool guns' 'recommend' 'updates' 'love play' 'game super' 'cool cool' 'wish' 'cool weapons' 'game wish' 'think great' 'gameplay' 'cool love' 'cool fun' 'amazing love' 'cute' 'fun cool' 'sick' 'ich' 'game im' 'sooooo' 'great game play' 'good time' 'great job\n",
      "Topic #4: like' 'game' 'add' 'think' 'minecraft' 'better' 'guns' 'like game' 'way' 'players' 'just' 'hard' 'phone' 'people' 'really' 'like minecraft' 'game like' 'time' 'team' 'big' 'online' 'free' 'perfect' 'think game' 'work' 'shoot' 'thing' 'really like' 'epic' 'lit' 'kills' 'makes' 'need' 'battle' 'mode' 'fight' 'kill' 'pro' 'lot' 'maybe' 'roblox' 'happy' 'tell' 'cod' 'sniper' 'man' 'wepons' 'kind' 'dont' 'pet\n",
      "Topic #5: game' 'want' 'graphics' 'update' 'account' 'guys' 'maps' 'let' 'thank' 'im' 'won' 'people' 'day' 'old' 'duty' 'download' 'favorite' 'deleted' 'didn' 'good graphics' 'lost' 'stupid' 'kill' 'version' 'say' 'phone' 'start' 'amazing' 'cuz' 'level' 'favorite game' 'won let' 'save' 'gameplay' 'hey' 'pg3d' 'gave' 'time' 'lol' 'ive' 'reset' 'downloaded' 'install' 'making' 'like duty' 'gold' 'cubic' 'let play' 'wont' 'going\n",
      "Topic #6: fun' 'game' 'really' 'coins' 'playing' 'play' 'don' 'game fun' 'time' 'thanks' 'really fun' 'fun game' 'fun play' 'people' 'stop' 'years' 'bit' 'chest' 'ok' 'think' 'gems' 'coins gems' 'gems coins' 'lose' 'getting' 'playing game' 'making' 'lucky' 'don like' 'coin' 'wow' 'long' 've' 'diamonds' 'suck' 'trophies' 'progress' 'year' 'game really' '30' 'bored' 'friends' 'enjoy' 'really love' 'easy' 'stop playing' 'lucky chest' 'long time' 'making game' 'takes\n",
      "Topic #7: play' 'game' 'nice' 'friends' 'game play' 'addictive' 'space' 'shooter' 'little' 'bad' 'play game' 'nice game' 'star' 'delete' '10' 'controls' 'play friends' 'games' 'person' 'multiplayer' 'takes' 'easy' 'keeps' 'able' 'shooter game' 'action' 'person shooter' 'tablet' 'online' 'lags' 'da' 'que' 'device' 'working' 'android' 'el' 'hero' 'bom' 'ya' '10 10' 'bro' 'little bit' 'takes space' 'ill' 'love game play' 'everyday' 'mucho' 'addictive game' 'gusto' 'fun addictive\n",
      "Topic #8: good' 'game' 'good game' 'really' 'win' 'awesome' 'download' 'game awesome' 'pay' 'game good' 'really good' 'pay win' 'lot' 'work' 'updates' 'good work' 'good guns' 'game really' 'really good game' 'think' 'omg' 'block' 'people' 'hate' 'crash' 'overall' 'recommend' 'favourite' 'download game' 'hate game' 'need' 'offline' 'awsome game' 'win game' 'realy' 'think good' 'game lot' 'noob' 'gameplay' 'game game' 'highly' 'play' 'good play' 'game download' 'controls' 'combat' 'pay win game' 'damn' 'favourite game' 'ads\n",
      "Topic #9: just' 'gems' 'fix' 'level' 'money' 'got' 'coins' 'plz' 'need' 'stars' 'thing' 'hate' 'know' 'game' 'weapons' 'buy' 'amazing' 'hard' 'dont' 'help' 'don' 'did' 'cost' 'use' 'friend' 'rate' 'match' 'upgrade' 'bad' 'lag' 'ist' 'stuff' 'button' 'game just' 'problem' 'try' 'lvl' '100' 'wish' 'real' 'hackers' 'bug' 'doesn' 'bought' 'ok' 'free' 'said' 'does' 'll' 'annoying\n",
      "\n"
     ]
    }
   ],
   "source": [
    "n_samples = len(comments_en_train)\n",
    "n_features = 1000\n",
    "n_components = 10\n",
    "n_top_words = 50\n",
    "\n",
    "def store_top_words(model, feature_names, n_top_words):\n",
    "    msg = []\n",
    "    for topic_idx, topic in enumerate(model.components_):\n",
    "        #message = \"Topic #%d: \" % topic_idx\n",
    "        message = \"' '\".join([feature_names[i]\n",
    "                             for i in topic.argsort()[:-n_top_words - 1:-1]])\n",
    "        msg.append(message)\n",
    "    res = pd.Series(msg)\n",
    "    res.to_excel('lda_topics.xls')\n",
    "\n",
    "    \n",
    "def print_top_words(model, feature_names, n_top_words):\n",
    "    for topic_idx, topic in enumerate(model.components_):\n",
    "        message = \"Topic #%d: \" % topic_idx\n",
    "        message += \"' '\".join([feature_names[i]\n",
    "                             for i in topic.argsort()[:-n_top_words - 1:-1]])\n",
    "        print(message)\n",
    "    print()\n",
    "print(\"Extracting tf features for LDA...\")\n",
    "\n",
    "tf_vectorizer = CountVectorizer(max_df=0.95, min_df=2,\n",
    "                                ngram_range = (1,3),\n",
    "                                max_features=n_features,\n",
    "                                stop_words='english')\n",
    "t0 = time()\n",
    "tf = tf_vectorizer.fit_transform(comments_en_train.Review)\n",
    "print(\"done in %0.3fs.\" % (time() - t0))\n",
    "print(\"Fitting LDA models with tf features, \"\n",
    "      \"n_samples=%d and n_features=%d...\"\n",
    "      % (n_samples, n_features))\n",
    "lda = LatentDirichletAllocation(n_components=n_components, max_iter=5,\n",
    "                                learning_method='online',\n",
    "                                learning_offset=50.,\n",
    "                                random_state=0)\n",
    "t0 = time()\n",
    "lda.fit(tf)\n",
    "print(\"done in %0.3fs.\" % (time() - t0))\n",
    "\n",
    "print(\"\\nTopics in LDA model:\")\n",
    "tf_feature_names = tf_vectorizer.get_feature_names()\n",
    "print_top_words(lda, tf_feature_names, n_top_words)\n",
    "store_top_words(lda, tf_feature_names, n_top_words)"
   ]
  },
  {
   "cell_type": "code",
   "execution_count": 11,
   "metadata": {},
   "outputs": [
    {
     "data": {
      "text/plain": [
       "(81699, 4)"
      ]
     },
     "execution_count": 11,
     "metadata": {},
     "output_type": "execute_result"
    }
   ],
   "source": [
    "comments.shape"
   ]
  },
  {
   "cell_type": "code",
   "execution_count": 12,
   "metadata": {},
   "outputs": [],
   "source": [
    "test_review = comments_en.Review.iloc[42]"
   ]
  },
  {
   "cell_type": "code",
   "execution_count": 13,
   "metadata": {},
   "outputs": [
    {
     "data": {
      "text/plain": [
       "'The new update is the worst pls owner of the game make it normal'"
      ]
     },
     "execution_count": 13,
     "metadata": {},
     "output_type": "execute_result"
    }
   ],
   "source": [
    "test_review"
   ]
  },
  {
   "cell_type": "code",
   "execution_count": 14,
   "metadata": {},
   "outputs": [
    {
     "data": {
      "text/plain": [
       "2"
      ]
     },
     "execution_count": 14,
     "metadata": {},
     "output_type": "execute_result"
    }
   ],
   "source": [
    "tf_feats = tf_vectorizer.transform([test_review])\n",
    "np.argmax(lda.transform(tf_feats)[0])"
   ]
  },
  {
   "cell_type": "code",
   "execution_count": 15,
   "metadata": {},
   "outputs": [],
   "source": [
    "lda_topics_labels = pd.read_excel('lda_topics_labels.xls')"
   ]
  },
  {
   "cell_type": "code",
   "execution_count": 16,
   "metadata": {},
   "outputs": [],
   "source": [
    "lda_labels = lda_topics_labels.cat.tolist()"
   ]
  },
  {
   "cell_type": "code",
   "execution_count": 8,
   "metadata": {},
   "outputs": [],
   "source": [
    "def get_lda_topic(text):\n",
    "    tf_feats = tf_vectorizer.transform([text])\n",
    "    return lda_labels[np.argmax(lda.transform(tf_feats)[0])]"
   ]
  },
  {
   "cell_type": "code",
   "execution_count": 9,
   "metadata": {},
   "outputs": [
    {
     "ename": "NameError",
     "evalue": "name 'tf_vectorizer' is not defined",
     "output_type": "error",
     "traceback": [
      "\u001b[0;31m---------------------------------------------------------------------------\u001b[0m",
      "\u001b[0;31mNameError\u001b[0m                                 Traceback (most recent call last)",
      "\u001b[0;32m<ipython-input-9-028b69b3c6af>\u001b[0m in \u001b[0;36m<module>\u001b[0;34m()\u001b[0m\n\u001b[0;32m----> 1\u001b[0;31m \u001b[0mget_lda_topic\u001b[0m\u001b[0;34m(\u001b[0m\u001b[0;34m'Overall this is a great game but before i give it 5 stars you really need to fix a bug the matchmaking system. It keeps matching me up against a team who is almost 10 levels higher than my own, which means they get more health and have better weapons. This is making it really unfair.'\u001b[0m\u001b[0;34m)\u001b[0m\u001b[0;34m\u001b[0m\u001b[0m\n\u001b[0m",
      "\u001b[0;32m<ipython-input-8-2a39d9c1ebc8>\u001b[0m in \u001b[0;36mget_lda_topic\u001b[0;34m(text)\u001b[0m\n\u001b[1;32m      1\u001b[0m \u001b[0;32mdef\u001b[0m \u001b[0mget_lda_topic\u001b[0m\u001b[0;34m(\u001b[0m\u001b[0mtext\u001b[0m\u001b[0;34m)\u001b[0m\u001b[0;34m:\u001b[0m\u001b[0;34m\u001b[0m\u001b[0m\n\u001b[0;32m----> 2\u001b[0;31m     \u001b[0mtf_feats\u001b[0m \u001b[0;34m=\u001b[0m \u001b[0mtf_vectorizer\u001b[0m\u001b[0;34m.\u001b[0m\u001b[0mtransform\u001b[0m\u001b[0;34m(\u001b[0m\u001b[0;34m[\u001b[0m\u001b[0mtext\u001b[0m\u001b[0;34m]\u001b[0m\u001b[0;34m)\u001b[0m\u001b[0;34m\u001b[0m\u001b[0m\n\u001b[0m\u001b[1;32m      3\u001b[0m     \u001b[0;32mreturn\u001b[0m \u001b[0mlda_labels\u001b[0m\u001b[0;34m[\u001b[0m\u001b[0mnp\u001b[0m\u001b[0;34m.\u001b[0m\u001b[0margmax\u001b[0m\u001b[0;34m(\u001b[0m\u001b[0mlda\u001b[0m\u001b[0;34m.\u001b[0m\u001b[0mtransform\u001b[0m\u001b[0;34m(\u001b[0m\u001b[0mtf_feats\u001b[0m\u001b[0;34m)\u001b[0m\u001b[0;34m[\u001b[0m\u001b[0;36m0\u001b[0m\u001b[0;34m]\u001b[0m\u001b[0;34m)\u001b[0m\u001b[0;34m]\u001b[0m\u001b[0;34m\u001b[0m\u001b[0m\n",
      "\u001b[0;31mNameError\u001b[0m: name 'tf_vectorizer' is not defined"
     ]
    }
   ],
   "source": [
    "get_lda_topic('Overall this is a great game but before i give it 5 stars you really need to fix a bug the matchmaking system. It keeps matching me up against a team who is almost 10 levels higher than my own, which means they get more health and have better weapons. This is making it really unfair.')"
   ]
  },
  {
   "cell_type": "code",
   "execution_count": 6,
   "metadata": {},
   "outputs": [],
   "source": [
    "val_en = pd.read_excel('validation_en.xlsx')"
   ]
  },
  {
   "cell_type": "code",
   "execution_count": 10,
   "metadata": {
    "collapsed": true
   },
   "outputs": [
    {
     "ename": "NameError",
     "evalue": "name 'tf_vectorizer' is not defined",
     "output_type": "error",
     "traceback": [
      "\u001b[0;31m---------------------------------------------------------------------------\u001b[0m",
      "\u001b[0;31mNameError\u001b[0m                                 Traceback (most recent call last)",
      "\u001b[0;32m<ipython-input-10-274f34f894a9>\u001b[0m in \u001b[0;36m<module>\u001b[0;34m()\u001b[0m\n\u001b[0;32m----> 1\u001b[0;31m \u001b[0mval_en\u001b[0m\u001b[0;34m.\u001b[0m\u001b[0mPositive\u001b[0m\u001b[0;34m.\u001b[0m\u001b[0mapply\u001b[0m\u001b[0;34m(\u001b[0m\u001b[0mget_lda_topic\u001b[0m\u001b[0;34m)\u001b[0m\u001b[0;34m\u001b[0m\u001b[0m\n\u001b[0m",
      "\u001b[0;32m~/anaconda/lib/python3.6/site-packages/pandas/core/series.py\u001b[0m in \u001b[0;36mapply\u001b[0;34m(self, func, convert_dtype, args, **kwds)\u001b[0m\n\u001b[1;32m   2549\u001b[0m             \u001b[0;32melse\u001b[0m\u001b[0;34m:\u001b[0m\u001b[0;34m\u001b[0m\u001b[0m\n\u001b[1;32m   2550\u001b[0m                 \u001b[0mvalues\u001b[0m \u001b[0;34m=\u001b[0m \u001b[0mself\u001b[0m\u001b[0;34m.\u001b[0m\u001b[0masobject\u001b[0m\u001b[0;34m\u001b[0m\u001b[0m\n\u001b[0;32m-> 2551\u001b[0;31m                 \u001b[0mmapped\u001b[0m \u001b[0;34m=\u001b[0m \u001b[0mlib\u001b[0m\u001b[0;34m.\u001b[0m\u001b[0mmap_infer\u001b[0m\u001b[0;34m(\u001b[0m\u001b[0mvalues\u001b[0m\u001b[0;34m,\u001b[0m \u001b[0mf\u001b[0m\u001b[0;34m,\u001b[0m \u001b[0mconvert\u001b[0m\u001b[0;34m=\u001b[0m\u001b[0mconvert_dtype\u001b[0m\u001b[0;34m)\u001b[0m\u001b[0;34m\u001b[0m\u001b[0m\n\u001b[0m\u001b[1;32m   2552\u001b[0m \u001b[0;34m\u001b[0m\u001b[0m\n\u001b[1;32m   2553\u001b[0m         \u001b[0;32mif\u001b[0m \u001b[0mlen\u001b[0m\u001b[0;34m(\u001b[0m\u001b[0mmapped\u001b[0m\u001b[0;34m)\u001b[0m \u001b[0;32mand\u001b[0m \u001b[0misinstance\u001b[0m\u001b[0;34m(\u001b[0m\u001b[0mmapped\u001b[0m\u001b[0;34m[\u001b[0m\u001b[0;36m0\u001b[0m\u001b[0;34m]\u001b[0m\u001b[0;34m,\u001b[0m \u001b[0mSeries\u001b[0m\u001b[0;34m)\u001b[0m\u001b[0;34m:\u001b[0m\u001b[0;34m\u001b[0m\u001b[0m\n",
      "\u001b[0;32mpandas/_libs/src/inference.pyx\u001b[0m in \u001b[0;36mpandas._libs.lib.map_infer\u001b[0;34m()\u001b[0m\n",
      "\u001b[0;32m<ipython-input-8-2a39d9c1ebc8>\u001b[0m in \u001b[0;36mget_lda_topic\u001b[0;34m(text)\u001b[0m\n\u001b[1;32m      1\u001b[0m \u001b[0;32mdef\u001b[0m \u001b[0mget_lda_topic\u001b[0m\u001b[0;34m(\u001b[0m\u001b[0mtext\u001b[0m\u001b[0;34m)\u001b[0m\u001b[0;34m:\u001b[0m\u001b[0;34m\u001b[0m\u001b[0m\n\u001b[0;32m----> 2\u001b[0;31m     \u001b[0mtf_feats\u001b[0m \u001b[0;34m=\u001b[0m \u001b[0mtf_vectorizer\u001b[0m\u001b[0;34m.\u001b[0m\u001b[0mtransform\u001b[0m\u001b[0;34m(\u001b[0m\u001b[0;34m[\u001b[0m\u001b[0mtext\u001b[0m\u001b[0;34m]\u001b[0m\u001b[0;34m)\u001b[0m\u001b[0;34m\u001b[0m\u001b[0m\n\u001b[0m\u001b[1;32m      3\u001b[0m     \u001b[0;32mreturn\u001b[0m \u001b[0mlda_labels\u001b[0m\u001b[0;34m[\u001b[0m\u001b[0mnp\u001b[0m\u001b[0;34m.\u001b[0m\u001b[0margmax\u001b[0m\u001b[0;34m(\u001b[0m\u001b[0mlda\u001b[0m\u001b[0;34m.\u001b[0m\u001b[0mtransform\u001b[0m\u001b[0;34m(\u001b[0m\u001b[0mtf_feats\u001b[0m\u001b[0;34m)\u001b[0m\u001b[0;34m[\u001b[0m\u001b[0;36m0\u001b[0m\u001b[0;34m]\u001b[0m\u001b[0;34m)\u001b[0m\u001b[0;34m]\u001b[0m\u001b[0;34m\u001b[0m\u001b[0m\n",
      "\u001b[0;31mNameError\u001b[0m: name 'tf_vectorizer' is not defined"
     ]
    }
   ],
   "source": [
    "val_en.Positive.apply(get_lda_topic)"
   ]
  },
  {
   "cell_type": "code",
   "execution_count": null,
   "metadata": {},
   "outputs": [],
   "source": [
    "import pickle\n",
    "with open('lda.pickle', 'wb') as f:\n",
    "    pickle.dump(lda, f)\n",
    "with open('vect.pickle', 'wb') as f:\n",
    "    vect.dump(lda, f)"
   ]
  },
  {
   "cell_type": "code",
   "execution_count": null,
   "metadata": {},
   "outputs": [],
   "source": [
    "with open('lda.pickle', 'rb') as f:\n",
    "    lda = pickle.load(f)\n"
   ]
  },
  {
   "cell_type": "code",
   "execution_count": 37,
   "metadata": {},
   "outputs": [],
   "source": [
    "comments_en_train['label'] = comments_en_train.Review.apply(get_lda_topic)"
   ]
  },
  {
   "cell_type": "code",
   "execution_count": 38,
   "metadata": {},
   "outputs": [
    {
     "data": {
      "text/plain": [
       "4    4806\n",
       "2    4774\n",
       "3    1584\n",
       "5    1327\n",
       "1    1309\n",
       "Name: label, dtype: int64"
      ]
     },
     "execution_count": 38,
     "metadata": {},
     "output_type": "execute_result"
    }
   ],
   "source": [
    "comments_en_train.label.value_counts()"
   ]
  },
  {
   "cell_type": "code",
   "execution_count": 30,
   "metadata": {},
   "outputs": [],
   "source": [
    "from sklearn.dummy import DummyClassifier\n",
    "from sklearn.linear_model import LogisticRegression, RidgeClassifier\n",
    "from sklearn.naive_bayes import BernoulliNB, MultinomialNB\n",
    "from sklearn.neighbors import KNeighborsClassifier\n",
    "from sklearn.ensemble import RandomForestClassifier, GradientBoostingClassifier\n",
    "from sklearn.svm import SVC\n",
    "from sklearn.neural_network import MLPClassifier\n",
    "from sklearn.multiclass import OneVsRestClassifier\n",
    "from sklearn.model_selection import train_test_split\n",
    "from sklearn.metrics import classification_report"
   ]
  },
  {
   "cell_type": "code",
   "execution_count": 13,
   "metadata": {},
   "outputs": [
    {
     "ename": "AttributeError",
     "evalue": "'DataFrame' object has no attribute 'label'",
     "output_type": "error",
     "traceback": [
      "\u001b[0;31m---------------------------------------------------------------------------\u001b[0m",
      "\u001b[0;31mAttributeError\u001b[0m                            Traceback (most recent call last)",
      "\u001b[0;32m<ipython-input-13-896f04eb3d7e>\u001b[0m in \u001b[0;36m<module>\u001b[0;34m()\u001b[0m\n\u001b[1;32m      2\u001b[0m \u001b[0mvect\u001b[0m \u001b[0;34m=\u001b[0m \u001b[0mTfidfVectorizer\u001b[0m\u001b[0;34m(\u001b[0m\u001b[0mngram_range\u001b[0m \u001b[0;34m=\u001b[0m \u001b[0;34m(\u001b[0m\u001b[0;36m1\u001b[0m\u001b[0;34m,\u001b[0m\u001b[0;36m3\u001b[0m\u001b[0;34m)\u001b[0m\u001b[0;34m,\u001b[0m \u001b[0manalyzer\u001b[0m \u001b[0;34m=\u001b[0m \u001b[0;34m'word'\u001b[0m\u001b[0;34m,\u001b[0m \u001b[0mstop_words\u001b[0m \u001b[0;34m=\u001b[0m \u001b[0;34m'english'\u001b[0m\u001b[0;34m,\u001b[0m \u001b[0mmin_df\u001b[0m \u001b[0;34m=\u001b[0m \u001b[0;36m50\u001b[0m\u001b[0;34m,\u001b[0m \u001b[0mmax_df\u001b[0m \u001b[0;34m=\u001b[0m \u001b[0;36m0.8\u001b[0m\u001b[0;34m)\u001b[0m\u001b[0;34m.\u001b[0m\u001b[0mfit\u001b[0m\u001b[0;34m(\u001b[0m\u001b[0mcomments_en\u001b[0m\u001b[0;34m.\u001b[0m\u001b[0mReview\u001b[0m\u001b[0;34m)\u001b[0m\u001b[0;34m\u001b[0m\u001b[0m\n\u001b[1;32m      3\u001b[0m \u001b[0mfeats\u001b[0m \u001b[0;34m=\u001b[0m \u001b[0mvect\u001b[0m\u001b[0;34m.\u001b[0m\u001b[0mtransform\u001b[0m\u001b[0;34m(\u001b[0m\u001b[0mcomments_en_train\u001b[0m\u001b[0;34m.\u001b[0m\u001b[0mReview\u001b[0m\u001b[0;34m)\u001b[0m\u001b[0;34m\u001b[0m\u001b[0m\n\u001b[0;32m----> 4\u001b[0;31m \u001b[0mlabels\u001b[0m \u001b[0;34m=\u001b[0m \u001b[0mcomments_en_train\u001b[0m\u001b[0;34m.\u001b[0m\u001b[0mlabel\u001b[0m\u001b[0;34m\u001b[0m\u001b[0m\n\u001b[0m",
      "\u001b[0;32m~/anaconda/lib/python3.6/site-packages/pandas/core/generic.py\u001b[0m in \u001b[0;36m__getattr__\u001b[0;34m(self, name)\u001b[0m\n\u001b[1;32m   3612\u001b[0m             \u001b[0;32mif\u001b[0m \u001b[0mname\u001b[0m \u001b[0;32min\u001b[0m \u001b[0mself\u001b[0m\u001b[0;34m.\u001b[0m\u001b[0m_info_axis\u001b[0m\u001b[0;34m:\u001b[0m\u001b[0;34m\u001b[0m\u001b[0m\n\u001b[1;32m   3613\u001b[0m                 \u001b[0;32mreturn\u001b[0m \u001b[0mself\u001b[0m\u001b[0;34m[\u001b[0m\u001b[0mname\u001b[0m\u001b[0;34m]\u001b[0m\u001b[0;34m\u001b[0m\u001b[0m\n\u001b[0;32m-> 3614\u001b[0;31m             \u001b[0;32mreturn\u001b[0m \u001b[0mobject\u001b[0m\u001b[0;34m.\u001b[0m\u001b[0m__getattribute__\u001b[0m\u001b[0;34m(\u001b[0m\u001b[0mself\u001b[0m\u001b[0;34m,\u001b[0m \u001b[0mname\u001b[0m\u001b[0;34m)\u001b[0m\u001b[0;34m\u001b[0m\u001b[0m\n\u001b[0m\u001b[1;32m   3615\u001b[0m \u001b[0;34m\u001b[0m\u001b[0m\n\u001b[1;32m   3616\u001b[0m     \u001b[0;32mdef\u001b[0m \u001b[0m__setattr__\u001b[0m\u001b[0;34m(\u001b[0m\u001b[0mself\u001b[0m\u001b[0;34m,\u001b[0m \u001b[0mname\u001b[0m\u001b[0;34m,\u001b[0m \u001b[0mvalue\u001b[0m\u001b[0;34m)\u001b[0m\u001b[0;34m:\u001b[0m\u001b[0;34m\u001b[0m\u001b[0m\n",
      "\u001b[0;31mAttributeError\u001b[0m: 'DataFrame' object has no attribute 'label'"
     ]
    }
   ],
   "source": [
    "from sklearn.feature_extraction.text import CountVectorizer, TfidfVectorizer\n",
    "vect = TfidfVectorizer(ngram_range = (1,3), analyzer = 'word', stop_words = 'english', min_df = 50, max_df = 0.8).fit(comments_en.Review)\n",
    "feats = vect.transform(comments_en_train.Review)\n",
    "labels = comments_en_train.label"
   ]
  },
  {
   "cell_type": "code",
   "execution_count": 87,
   "metadata": {},
   "outputs": [
    {
     "data": {
      "text/plain": [
       "(13800, 517)"
      ]
     },
     "execution_count": 87,
     "metadata": {},
     "output_type": "execute_result"
    }
   ],
   "source": [
    "feats.shape"
   ]
  },
  {
   "cell_type": "code",
   "execution_count": 88,
   "metadata": {},
   "outputs": [],
   "source": [
    "X_train, X_test, y_train, y_test = train_test_split(feats, labels, test_size=0.2)"
   ]
  },
  {
   "cell_type": "code",
   "execution_count": 52,
   "metadata": {},
   "outputs": [],
   "source": [
    "def eval_model(y_train,y_test,y_train_pred,y_test_pred):\n",
    "    class_names = [#'unknown',\n",
    "        'Crash',\n",
    "        'Balance problems',\n",
    "        'Synchronization',\n",
    "        'Positive',\n",
    "        'Bug']\n",
    "    print('train scores\\n')\n",
    "    print(classification_report(y_train, y_train_pred, target_names = class_names))\n",
    "    print('test scores\\n')\n",
    "    print(classification_report(y_test, y_test_pred, target_names = class_names))"
   ]
  },
  {
   "cell_type": "code",
   "execution_count": 90,
   "metadata": {
    "collapsed": true
   },
   "outputs": [
    {
     "name": "stdout",
     "output_type": "stream",
     "text": [
      "train scores\n",
      "\n",
      "                  precision    recall  f1-score   support\n",
      "\n",
      "           Crash       0.09      0.03      0.05      1038\n",
      "Balance problems       0.34      0.18      0.24      3824\n",
      " Synchronization       0.13      0.08      0.10      1264\n",
      "        Positive       0.35      0.32      0.33      3857\n",
      "             Bug       0.09      0.39      0.15      1057\n",
      "\n",
      "     avg / total       0.27      0.22      0.23     11040\n",
      "\n",
      "test scores\n",
      "\n",
      "                  precision    recall  f1-score   support\n",
      "\n",
      "           Crash       0.15      0.05      0.08       271\n",
      "Balance problems       0.36      0.18      0.24       950\n",
      " Synchronization       0.07      0.05      0.06       320\n",
      "        Positive       0.34      0.30      0.31       949\n",
      "             Bug       0.09      0.39      0.15       270\n",
      "\n",
      "     avg / total       0.27      0.21      0.22      2760\n",
      "\n"
     ]
    }
   ],
   "source": [
    "m = OneVsRestClassifier(DummyClassifier()).fit(X_train, y_train)\n",
    "y_train_pred = m.predict(X_train)\n",
    "y_test_pred = m.predict(X_test)\n",
    "eval_model(y_train,y_test,y_train_pred,y_test_pred)"
   ]
  },
  {
   "cell_type": "code",
   "execution_count": 91,
   "metadata": {
    "collapsed": true
   },
   "outputs": [
    {
     "name": "stdout",
     "output_type": "stream",
     "text": [
      "train scores\n",
      "\n",
      "                  precision    recall  f1-score   support\n",
      "\n",
      "           Crash       0.96      0.85      0.90      1038\n",
      "Balance problems       0.89      0.89      0.89      3824\n",
      " Synchronization       0.79      0.87      0.83      1264\n",
      "        Positive       0.91      0.91      0.91      3857\n",
      "             Bug       0.93      0.88      0.90      1057\n",
      "\n",
      "     avg / total       0.89      0.89      0.89     11040\n",
      "\n",
      "test scores\n",
      "\n",
      "                  precision    recall  f1-score   support\n",
      "\n",
      "           Crash       0.94      0.83      0.88       271\n",
      "Balance problems       0.85      0.87      0.86       950\n",
      " Synchronization       0.78      0.82      0.80       320\n",
      "        Positive       0.89      0.90      0.90       949\n",
      "             Bug       0.91      0.86      0.88       270\n",
      "\n",
      "     avg / total       0.87      0.87      0.87      2760\n",
      "\n"
     ]
    }
   ],
   "source": [
    "m = LogisticRegression(C = 1.5).fit(X_train, y_train)\n",
    "y_train_pred = m.predict(X_train)\n",
    "y_test_pred = m.predict(X_test)\n",
    "eval_model(y_train,y_test,y_train_pred,y_test_pred)"
   ]
  },
  {
   "cell_type": "code",
   "execution_count": 83,
   "metadata": {
    "collapsed": true
   },
   "outputs": [
    {
     "name": "stdout",
     "output_type": "stream",
     "text": [
      "train scores\n",
      "\n",
      "                  precision    recall  f1-score   support\n",
      "\n",
      "           Crash       0.95      0.84      0.90      1063\n",
      "Balance problems       0.77      0.91      0.83      3813\n",
      " Synchronization       0.88      0.52      0.65      1249\n",
      "        Positive       0.88      0.89      0.88      3855\n",
      "             Bug       0.88      0.81      0.84      1060\n",
      "\n",
      "     avg / total       0.85      0.84      0.84     11040\n",
      "\n",
      "test scores\n",
      "\n",
      "                  precision    recall  f1-score   support\n",
      "\n",
      "           Crash       0.94      0.83      0.88       246\n",
      "Balance problems       0.73      0.87      0.79       961\n",
      " Synchronization       0.81      0.47      0.59       335\n",
      "        Positive       0.86      0.86      0.86       951\n",
      "             Bug       0.86      0.81      0.83       267\n",
      "\n",
      "     avg / total       0.82      0.81      0.80      2760\n",
      "\n"
     ]
    }
   ],
   "source": [
    "m = RidgeClassifier(alpha = 10).fit(X_train, y_train)\n",
    "y_train_pred = m.predict(X_train)\n",
    "y_test_pred = m.predict(X_test)\n",
    "eval_model(y_train,y_test,y_train_pred,y_test_pred)"
   ]
  },
  {
   "cell_type": "code",
   "execution_count": 58,
   "metadata": {
    "collapsed": true
   },
   "outputs": [
    {
     "name": "stdout",
     "output_type": "stream",
     "text": [
      "train scores\n",
      "\n",
      "                  precision    recall  f1-score   support\n",
      "\n",
      "           Crash       0.94      0.87      0.90      1063\n",
      "Balance problems       0.78      0.87      0.82      3813\n",
      " Synchronization       0.79      0.54      0.64      1249\n",
      "        Positive       0.79      0.83      0.81      3855\n",
      "             Bug       0.88      0.75      0.81      1060\n",
      "\n",
      "     avg / total       0.81      0.81      0.80     11040\n",
      "\n",
      "test scores\n",
      "\n",
      "                  precision    recall  f1-score   support\n",
      "\n",
      "           Crash       0.93      0.83      0.87       246\n",
      "Balance problems       0.74      0.85      0.79       961\n",
      " Synchronization       0.77      0.45      0.57       335\n",
      "        Positive       0.76      0.81      0.79       951\n",
      "             Bug       0.89      0.75      0.82       267\n",
      "\n",
      "     avg / total       0.78      0.78      0.77      2760\n",
      "\n"
     ]
    }
   ],
   "source": [
    "m = MultinomialNB(alpha = 0.01).fit(X_train, y_train)\n",
    "y_train_pred = m.predict(X_train)\n",
    "y_test_pred = m.predict(X_test)\n",
    "eval_model(y_train,y_test,y_train_pred,y_test_pred)"
   ]
  },
  {
   "cell_type": "code",
   "execution_count": 93,
   "metadata": {},
   "outputs": [],
   "source": [
    "def eval_classifier(input_text,model = m):\n",
    "    feats = vect.transform([input_text])\n",
    "    class_names = ['unknown',\n",
    "        'Crash',\n",
    "        'Balance problems',\n",
    "        'Synchronization',\n",
    "        'Positive',\n",
    "        'Bug']\n",
    "    prediction = model.predict(feats)\n",
    "    #print(class_names[prediction[0]])\n",
    "    return class_names[prediction[0]]"
   ]
  },
  {
   "cell_type": "code",
   "execution_count": 96,
   "metadata": {
    "collapsed": true
   },
   "outputs": [
    {
     "data": {
      "text/plain": [
       "0    Balance problems\n",
       "1    Balance problems\n",
       "2    Balance problems\n",
       "3    Balance problems\n",
       "4     Synchronization\n",
       "5    Balance problems\n",
       "6     Synchronization\n",
       "7     Synchronization\n",
       "8            Positive\n",
       "9    Balance problems\n",
       "Name: Bug, dtype: object"
      ]
     },
     "execution_count": 96,
     "metadata": {},
     "output_type": "execute_result"
    }
   ],
   "source": [
    "val_en.Bug.apply(eval_classifier)"
   ]
  },
  {
   "cell_type": "code",
   "execution_count": 22,
   "metadata": {},
   "outputs": [],
   "source": [
    "from sklearn.utils import check_random_state\n",
    "from sklearn.decomposition._online_lda import _dirichlet_expectation_2d\n",
    "from sklearn.decomposition import NMF, LatentDirichletAllocation\n",
    "class PTWGuidedLatentDirichletAllocation(LatentDirichletAllocation):\n",
    "\n",
    "    def __init__(self, ptws=None, *args, **kwargs):\n",
    "        super(PTWGuidedLatentDirichletAllocation, self).__init__(*args, **kwargs)\n",
    "        self.ptws = ptws\n",
    "\n",
    "    def _init_latent_vars(self, n_features):\n",
    "        \"\"\"Initialize latent variables.\"\"\"\n",
    "\n",
    "        self.random_state_ = check_random_state(self.random_state)\n",
    "        self.n_batch_iter_ = 1\n",
    "        self.n_iter_ = 0\n",
    "\n",
    "        if self.doc_topic_prior is None:\n",
    "            self.doc_topic_prior_ = 1. / self.n_topics\n",
    "        else:\n",
    "            self.doc_topic_prior_ = self.doc_topic_prior\n",
    "\n",
    "        if self.topic_word_prior is None:\n",
    "            self.topic_word_prior_ = 1. / self.n_topics\n",
    "        else:\n",
    "            self.topic_word_prior_ = self.topic_word_prior\n",
    "\n",
    "        init_gamma = 100.\n",
    "        init_var = 1. / init_gamma\n",
    "        # In the literature, this is called `lambda`\n",
    "        self.components_ = self.random_state_.gamma(\n",
    "            init_gamma, init_var, (self.n_topics, n_features))\n",
    "\n",
    "        # Transform topic values in matrix for prior topic words\n",
    "        if self.ptws is not None:\n",
    "            for ptw in self.ptws:\n",
    "                word_index = ptw[0]\n",
    "                word_topic_values = ptw[1]\n",
    "                self.components_[:, word_index] *= word_topic_values\n",
    "\n",
    "        # In the literature, this is `exp(E[log(beta)])`\n",
    "        self.exp_dirichlet_component_ = np.exp(\n",
    "            _dirichlet_expectation_2d(self.components_))"
   ]
  },
  {
   "cell_type": "code",
   "execution_count": 23,
   "metadata": {},
   "outputs": [],
   "source": [
    "from sklearn.feature_extraction import stop_words\n",
    "sw = list(stop_words.ENGLISH_STOP_WORDS)\n",
    "sw.append('game')\n",
    "sw.append('games')\n",
    "sw.append('good')\n",
    "sw.append('great')"
   ]
  },
  {
   "cell_type": "code",
   "execution_count": 24,
   "metadata": {},
   "outputs": [],
   "source": [
    "from sklearn.feature_extraction.text import CountVectorizer, TfidfVectorizer\n",
    "from __future__ import print_function\n",
    "from time import time\n",
    "tf_vectorizer = CountVectorizer(max_df=0.95, min_df=2,\n",
    "                                ngram_range = (1,3),\n",
    "                                max_features=1000,\n",
    "                                stop_words=sw)\n",
    "t0 = time()\n",
    "tf = tf_vectorizer.fit_transform(comments_en_train.Review)"
   ]
  },
  {
   "cell_type": "code",
   "execution_count": 36,
   "metadata": {},
   "outputs": [
    {
     "data": {
      "text/plain": [
       "163"
      ]
     },
     "execution_count": 36,
     "metadata": {},
     "output_type": "execute_result"
    }
   ],
   "source": [
    "tf_vectorizer.vocabulary_['cool']"
   ]
  },
  {
   "cell_type": "code",
   "execution_count": 26,
   "metadata": {},
   "outputs": [
    {
     "data": {
      "text/plain": [
       "4.4942328371557893e+307"
      ]
     },
     "execution_count": 26,
     "metadata": {},
     "output_type": "execute_result"
    }
   ],
   "source": [
    "(np.finfo(np.float64).max/4)"
   ]
  },
  {
   "cell_type": "code",
   "execution_count": 27,
   "metadata": {},
   "outputs": [],
   "source": [
    "# List with prior topic words as tuples\n",
    "# (word index, [topic values])\n",
    "def prior_dist(n_topic):\n",
    "    dist = [0.,0.,0.,0.,0.]\n",
    "    dist[n_topic] = (np.finfo(np.float64).max/4)\n",
    "    return dist\n",
    "prior_topic_words = [\n",
    "    (tf_vectorizer.vocabulary_['crash'],prior_dist(0)),\n",
    "    (tf_vectorizer.vocabulary_['crashes'],prior_dist(0)),\n",
    "    (tf_vectorizer.vocabulary_['crashing'],prior_dist(0)),\n",
    "    (tf_vectorizer.vocabulary_['balance'],prior_dist(1)),\n",
    "    (tf_vectorizer.vocabulary_['balanced'],prior_dist(1)),\n",
    "    (tf_vectorizer.vocabulary_['unbalanced'],prior_dist(1)),\n",
    "    (tf_vectorizer.vocabulary_['overpowered'],prior_dist(1)),\n",
    "    (tf_vectorizer.vocabulary_['op'],prior_dist(1)),\n",
    "    (tf_vectorizer.vocabulary_['match'],prior_dist(1)),\n",
    "    (tf_vectorizer.vocabulary_['unfair'],prior_dist(1)),\n",
    "    (tf_vectorizer.vocabulary_['prices'],prior_dist(1)),\n",
    "    (tf_vectorizer.vocabulary_['weapons cost'],prior_dist(1)),\n",
    "    (tf_vectorizer.vocabulary_['powerful'],prior_dist(1)),\n",
    "    (tf_vectorizer.vocabulary_['fair'],prior_dist(1)),\n",
    "    (tf_vectorizer.vocabulary_['hard'],prior_dist(1)),\n",
    "    (tf_vectorizer.vocabulary_['higher'],prior_dist(1)),\n",
    "    (tf_vectorizer.vocabulary_['level'],prior_dist(1)),\n",
    "    (tf_vectorizer.vocabulary_['levels'],prior_dist(1)),\n",
    "    (tf_vectorizer.vocabulary_['buy gems'],prior_dist(1)),\n",
    "    (tf_vectorizer.vocabulary_['matchmaking'],prior_dist(1)),\n",
    "    (tf_vectorizer.vocabulary_['beast'],prior_dist(1)),\n",
    "    (tf_vectorizer.vocabulary_['level 27'],prior_dist(1)),\n",
    "    (tf_vectorizer.vocabulary_['pay win'],prior_dist(1)),\n",
    "    (tf_vectorizer.vocabulary_['powered'],prior_dist(1)),\n",
    "    (tf_vectorizer.vocabulary_['guns cost'],prior_dist(1)),\n",
    "    (tf_vectorizer.vocabulary_['lost'],prior_dist(2)),\n",
    "    (tf_vectorizer.vocabulary_['lose'],prior_dist(2)),\n",
    "    (tf_vectorizer.vocabulary_['trophies'],prior_dist(2)),\n",
    "    (tf_vectorizer.vocabulary_['losing'],prior_dist(2)),\n",
    "    (tf_vectorizer.vocabulary_['deleted'],prior_dist(2)),\n",
    "    (tf_vectorizer.vocabulary_['awesome'],prior_dist(3)),\n",
    "    (tf_vectorizer.vocabulary_['amazing'],prior_dist(3)),\n",
    "    #(tf_vectorizer.vocabulary_['good'],prior_dist(3)),\n",
    "    (tf_vectorizer.vocabulary_['awesome cool'],prior_dist(3)),\n",
    "    (tf_vectorizer.vocabulary_['awesome graphics'],prior_dist(3)),\n",
    "    #(tf_vectorizer.vocabulary_['good gameplay'],prior_dist(3)),\n",
    "    #(tf_vectorizer.vocabulary_['good time'],prior_dist(3)),\n",
    "    #(tf_vectorizer.vocabulary_['good job'],prior_dist(3)),\n",
    "    (tf_vectorizer.vocabulary_['fun love'],prior_dist(3)),\n",
    "    #(tf_vectorizer.vocabulary_['fun great'],prior_dist(3)),\n",
    "    (tf_vectorizer.vocabulary_['really like'],prior_dist(3)),\n",
    "    #(tf_vectorizer.vocabulary_['good best'],prior_dist(3)),\n",
    "    #(tf_vectorizer.vocabulary_['good graphics'],prior_dist(3)),\n",
    "    (tf_vectorizer.vocabulary_['best'],prior_dist(3)),\n",
    "    (tf_vectorizer.vocabulary_['cool'],prior_dist(3)),\n",
    "    (tf_vectorizer.vocabulary_['bug'],prior_dist(4)),\n",
    "    (tf_vectorizer.vocabulary_['bugs'],prior_dist(4)),\n",
    "    (tf_vectorizer.vocabulary_['lag'],prior_dist(4)),\n",
    "    (tf_vectorizer.vocabulary_['lags'],prior_dist(4)),\n",
    "    (tf_vectorizer.vocabulary_['lagging'],prior_dist(4)),\n",
    "    (tf_vectorizer.vocabulary_['update'],prior_dist(4)),\n",
    "    (tf_vectorizer.vocabulary_['google play'],prior_dist(4)),\n",
    "    (tf_vectorizer.vocabulary_['fix'],prior_dist(4)),\n",
    "    (tf_vectorizer.vocabulary_['fix'],prior_dist(0)),\n",
    "    (tf_vectorizer.vocabulary_['fix bug'],prior_dist(4)),\n",
    "    (tf_vectorizer.vocabulary_['fix bug'],prior_dist(0)),\n",
    "    (tf_vectorizer.vocabulary_['google'],prior_dist(4)),\n",
    "    (tf_vectorizer.vocabulary_['got banned'],prior_dist(4))\n",
    "]\n",
    "\n",
    "# Example (word at index 3000 belongs to topic with index 0)\n",
    "#prior_topic_words.append(\n",
    "#    (3000, [(np.finfo(np.float64).max/4),0.,0.,0.,0.])\n",
    "#)"
   ]
  },
  {
   "cell_type": "code",
   "execution_count": 30,
   "metadata": {},
   "outputs": [
    {
     "name": "stderr",
     "output_type": "stream",
     "text": [
      "/Users/dns/anaconda/lib/python3.6/site-packages/sklearn/decomposition/online_lda.py:294: DeprecationWarning: n_topics has been renamed to n_components in version 0.19 and will be removed in 0.21\n",
      "  DeprecationWarning)\n"
     ]
    },
    {
     "name": "stdout",
     "output_type": "stream",
     "text": [
      "done in 55.543s.\n",
      "\n",
      "Topics in LDA model:\n",
      "Topic #0: death' 'definitely' 'delete' 'game make' 'game love' 'game lots' 'game lot' 'game like' 'game life' 'game just' 'game ive' 'game im' 'game guys' 'game guns' 'game great' 'zombie' 'game addicting' 'game got' 'game good' 'game game' 'game fun play' 'game fun' 'game download' 'game dont' 'game don' 'game cool' 'game better' 'game best game' 'game best' 'game awsome' 'game mobile' 'game mode' 'game modes' 'game needs' 'game years' 'game world' 'game wish' 'game want' 'game ve played' 'game ve' 'game used' 'game update' 'game time' 'game thank' 'game stars' 'game really good' 'game really fun' 'game really' 'game problem' 'game plz\n",
      "Topic #1: player' 'installed' 'trash' 'mucho' 'love graphics' 'graphics good' 'fun' 'internet' 'best game' 'chest' 'new' 'best fps' 'instead' 'play time' 'new weapons' 'play store' 'totally' 'love game fun' 'best mobile' 'weak' 'gone' 'games' 'game life' 'game like' 'game ive' 'game just' 'game im' 'zombie' 'game guys' 'game guns' 'game great' 'game lots' 'game got' 'game good' 'game game' 'game fun play' 'game fun' 'game download' 'game dont' 'game don' 'game lot' 'game mode' 'game love' 'game make' 'game used' 'game update' 'game time' 'game thank' 'game stars' 'game really good\n",
      "Topic #2: let download' 'dont' 'left' 'let play' 'time' 'zombie' 'game like' 'game just' 'game life' 'game lot' 'game needs' 'game lots' 'game love' 'game make' 'game mobile' 'game mode' 'game ive' 'game im' 'game guys' 'game guns' 'game great' 'game got' 'game good' 'game game' 'game fun play' 'game fun' 'game download' 'game dont' 'game don' 'game cool' 'game better' 'game best game' 'game best' 'game modes' 'game new update' 'game new' 'game really good' 'gameplay' 'game years' 'game world' 'game wish' 'game want' 'game ve played' 'game ve' 'game used' 'game update' 'game time' 'game thank' 'game stars' 'game really fun\n",
      "Topic #3: best shooter' 'base' 'basically' 'creating' 'battle' 'problems' 'game hard' 'apps' 'game better' 'game guns' 'game love' 'game lots' 'game lot' 'game like' 'game life' 'game just' 'game ive' 'game im' 'game guys' 'game got' 'game great' 'game cool' 'game good' 'game make' 'game fun play' 'game best' 'game best game' 'game fun' 'game download' 'game dont' 'game don' 'game game' 'zombie' 'game awsome' 'game problem' 'game world' 'game wish' 'game want' 'game ve played' 'game ve' 'game used' 'game update' 'game time' 'game thank' 'game stars' 'game really good' 'game really fun' 'game really' 'game plz' 'game mode\n",
      "Topic #4: horrible' 'game super' 'home' 'channel' 'honestly' 'trophies' 'game sucks' 'game think' 'changed' 'game ive' 'game just' 'game life' 'game like' 'zombie' 'game im' 'game lots' 'game love' 'game make' 'game mobile' 'game lot' 'game great' 'game guys' 'game guns' 'game modes' 'game got' 'game good' 'game game' 'game fun play' 'game fun' 'game download' 'game dont' 'game don' 'game cool' 'game better' 'game mode' 'game pay' 'game needs' 'game really' 'game wish' 'game want' 'game ve played' 'game ve' 'game used' 'game update' 'game time' 'game thank' 'game stars' 'game really good' 'game really fun' 'game problem\n",
      "\n"
     ]
    },
    {
     "name": "stderr",
     "output_type": "stream",
     "text": [
      "/Users/dns/anaconda/lib/python3.6/site-packages/sklearn/decomposition/online_lda.py:782: RuntimeWarning: overflow encountered in exp\n",
      "  return np.exp(-1.0 * perword_bound)\n"
     ]
    }
   ],
   "source": [
    "lda = PTWGuidedLatentDirichletAllocation(n_topics=5, max_iter=50,\n",
    "                                learning_method='online',\n",
    "                                learning_offset=15.,\n",
    "                                random_state=0,\n",
    "                                ptws = prior_topic_words)\n",
    "t0 = time()\n",
    "lda.fit(tf)\n",
    "print(\"done in %0.3fs.\" % (time() - t0))\n",
    "\n",
    "print(\"\\nTopics in LDA model:\")\n",
    "tf_feature_names = tf_vectorizer.get_feature_names()\n",
    "print_top_words(lda, tf_feature_names, n_top_words)\n",
    "store_top_words(lda, tf_feature_names, n_top_words)"
   ]
  },
  {
   "cell_type": "code",
   "execution_count": 31,
   "metadata": {},
   "outputs": [],
   "source": [
    "def get_lda_topic(text):\n",
    "    tf_feats = tf_vectorizer.transform([text])\n",
    "    return np.argmax(lda.transform(tf_feats)[0])"
   ]
  },
  {
   "cell_type": "code",
   "execution_count": 32,
   "metadata": {},
   "outputs": [
    {
     "data": {
      "text/plain": [
       "0"
      ]
     },
     "execution_count": 32,
     "metadata": {},
     "output_type": "execute_result"
    }
   ],
   "source": [
    "get_lda_topic('Overall this is a great game but before i give it 5 stars you really need to fix a bug the matchmaking system. It keeps matching me up against a team who is almost 10 levels higher than my own, which means they get more health and have better weapons. This is making it really unfair.')"
   ]
  },
  {
   "cell_type": "code",
   "execution_count": 33,
   "metadata": {},
   "outputs": [
    {
     "data": {
      "text/plain": [
       "0    2\n",
       "1    1\n",
       "2    2\n",
       "3    2\n",
       "4    1\n",
       "5    0\n",
       "6    0\n",
       "7    1\n",
       "8    0\n",
       "9    0\n",
       "Name: Bug, dtype: int64"
      ]
     },
     "execution_count": 33,
     "metadata": {},
     "output_type": "execute_result"
    }
   ],
   "source": [
    "val_en.Bug.apply(get_lda_topic)"
   ]
  },
  {
   "cell_type": "code",
   "execution_count": 238,
   "metadata": {},
   "outputs": [],
   "source": [
    "y_true = []\n",
    "y_pred = []\n",
    "for i in range(5):\n",
    "    y_true.append([i]*10)\n",
    "    y_pred.append(val_en.iloc[:,i].apply(get_lda_topic))\n",
    "y_true = np.array(y_true).flatten()\n",
    "y_pred = np.array(y_pred).flatten()"
   ]
  },
  {
   "cell_type": "code",
   "execution_count": 239,
   "metadata": {},
   "outputs": [
    {
     "name": "stdout",
     "output_type": "stream",
     "text": [
      "                  precision    recall  f1-score   support\n",
      "\n",
      "           Crash       0.35      0.60      0.44        10\n",
      "Balance problems       0.50      0.40      0.44        10\n",
      " Synchronization       1.00      0.50      0.67        10\n",
      "        Positive       0.50      0.50      0.50        10\n",
      "             Bug       0.60      0.60      0.60        10\n",
      "\n",
      "     avg / total       0.59      0.52      0.53        50\n",
      "\n"
     ]
    }
   ],
   "source": [
    "class_names = [#'unknown',\n",
    "    'Crash',\n",
    "    'Balance problems',\n",
    "    'Synchronization',\n",
    "    'Positive',\n",
    "    'Bug']\n",
    "print(classification_report(y_true, y_pred, target_names = class_names))"
   ]
  },
  {
   "cell_type": "code",
   "execution_count": 240,
   "metadata": {},
   "outputs": [],
   "source": [
    "comments_en_train['label'] = comments_en_train.Review.apply(get_lda_topic)"
   ]
  },
  {
   "cell_type": "code",
   "execution_count": 241,
   "metadata": {},
   "outputs": [
    {
     "data": {
      "text/plain": [
       "0    7644\n",
       "3    4396\n",
       "4     779\n",
       "1     725\n",
       "2     256\n",
       "Name: label, dtype: int64"
      ]
     },
     "execution_count": 241,
     "metadata": {},
     "output_type": "execute_result"
    }
   ],
   "source": [
    "comments_en_train.label.value_counts()"
   ]
  },
  {
   "cell_type": "code",
   "execution_count": 242,
   "metadata": {},
   "outputs": [],
   "source": [
    "from sklearn.feature_extraction.text import CountVectorizer, TfidfVectorizer\n",
    "vect = CountVectorizer(ngram_range = (1,3), analyzer = 'word', stop_words = sw, min_df = 2, max_df = 0.95).fit(comments_en.Review)\n",
    "feats = vect.transform(comments_en_train.Review)\n",
    "labels = comments_en_train.label"
   ]
  },
  {
   "cell_type": "code",
   "execution_count": 243,
   "metadata": {},
   "outputs": [],
   "source": [
    "X_train, X_test, y_train, y_test = train_test_split(feats, labels, test_size=0.2)"
   ]
  },
  {
   "cell_type": "code",
   "execution_count": 256,
   "metadata": {},
   "outputs": [
    {
     "name": "stdout",
     "output_type": "stream",
     "text": [
      "train scores\n",
      "\n",
      "                  precision    recall  f1-score   support\n",
      "\n",
      "           Crash       1.00      1.00      1.00      6085\n",
      "Balance problems       1.00      0.97      0.98       580\n",
      " Synchronization       1.00      0.99      0.99       199\n",
      "        Positive       1.00      1.00      1.00      3562\n",
      "             Bug       1.00      0.99      0.99       614\n",
      "\n",
      "     avg / total       1.00      1.00      1.00     11040\n",
      "\n",
      "test scores\n",
      "\n",
      "                  precision    recall  f1-score   support\n",
      "\n",
      "           Crash       0.98      1.00      0.99      1559\n",
      "Balance problems       0.92      0.81      0.86       145\n",
      " Synchronization       0.94      0.60      0.73        57\n",
      "        Positive       0.99      1.00      0.99       834\n",
      "             Bug       0.94      0.93      0.93       165\n",
      "\n",
      "     avg / total       0.98      0.98      0.97      2760\n",
      "\n"
     ]
    }
   ],
   "source": [
    "m = LogisticRegression(C = 1).fit(X_train, y_train)\n",
    "y_train_pred = m.predict(X_train)\n",
    "y_test_pred = m.predict(X_test)\n",
    "eval_model(y_train,y_test,y_train_pred,y_test_pred)"
   ]
  },
  {
   "cell_type": "code",
   "execution_count": 265,
   "metadata": {},
   "outputs": [
    {
     "name": "stdout",
     "output_type": "stream",
     "text": [
      "train scores\n",
      "\n",
      "                  precision    recall  f1-score   support\n",
      "\n",
      "           Crash       0.95      1.00      0.97      6085\n",
      "Balance problems       0.99      0.65      0.78       580\n",
      " Synchronization       0.98      0.69      0.81       199\n",
      "        Positive       0.99      1.00      1.00      3562\n",
      "             Bug       0.98      0.84      0.90       614\n",
      "\n",
      "     avg / total       0.97      0.97      0.96     11040\n",
      "\n",
      "test scores\n",
      "\n",
      "                  precision    recall  f1-score   support\n",
      "\n",
      "           Crash       0.94      1.00      0.97      1559\n",
      "Balance problems       0.93      0.52      0.67       145\n",
      " Synchronization       0.94      0.60      0.73        57\n",
      "        Positive       0.98      1.00      0.99       834\n",
      "             Bug       0.96      0.79      0.87       165\n",
      "\n",
      "     avg / total       0.95      0.95      0.95      2760\n",
      "\n"
     ]
    }
   ],
   "source": [
    "from sklearn.linear_model import LassoCV\n",
    "m = OneVsRestClassifier(LassoCV()).fit(X_train, y_train)\n",
    "y_train_pred = m.predict(X_train)\n",
    "y_test_pred = m.predict(X_test)\n",
    "eval_model(y_train,y_test,y_train_pred,y_test_pred)"
   ]
  },
  {
   "cell_type": "code",
   "execution_count": 266,
   "metadata": {},
   "outputs": [],
   "source": [
    "def eval_classifier(input_text,model = m):\n",
    "    feats = vect.transform([input_text])\n",
    "    class_names = ['unknown',\n",
    "        'Crash',\n",
    "        'Balance problems',\n",
    "        'Synchronization',\n",
    "        'Positive',\n",
    "        'Bug']\n",
    "    prediction = model.predict(feats)\n",
    "    #print(class_names[prediction[0]])\n",
    "    return prediction[0]"
   ]
  },
  {
   "cell_type": "code",
   "execution_count": 267,
   "metadata": {},
   "outputs": [],
   "source": [
    "y_true = []\n",
    "y_pred = []\n",
    "for i in range(5):\n",
    "    y_true.append([i]*10)\n",
    "    y_pred.append(val_en.iloc[:,i].apply(eval_classifier))\n",
    "y_true = np.array(y_true).flatten()\n",
    "y_pred = np.array(y_pred).flatten()"
   ]
  },
  {
   "cell_type": "code",
   "execution_count": 268,
   "metadata": {},
   "outputs": [
    {
     "name": "stdout",
     "output_type": "stream",
     "text": [
      "                  precision    recall  f1-score   support\n",
      "\n",
      "           Crash       0.25      0.60      0.35        10\n",
      "Balance problems       0.60      0.30      0.40        10\n",
      " Synchronization       1.00      0.40      0.57        10\n",
      "        Positive       0.50      0.50      0.50        10\n",
      "             Bug       0.43      0.30      0.35        10\n",
      "\n",
      "     avg / total       0.56      0.42      0.44        50\n",
      "\n"
     ]
    }
   ],
   "source": [
    "class_names = [#'unknown',\n",
    "    'Crash',\n",
    "    'Balance problems',\n",
    "    'Synchronization',\n",
    "    'Positive',\n",
    "    'Bug']\n",
    "print(classification_report(y_true, y_pred, target_names = class_names))"
   ]
  },
  {
   "cell_type": "code",
   "execution_count": null,
   "metadata": {},
   "outputs": [],
   "source": []
  }
 ],
 "metadata": {
  "kernelspec": {
   "display_name": "Python 3",
   "language": "python",
   "name": "python3"
  },
  "language_info": {
   "codemirror_mode": {
    "name": "ipython",
    "version": 3
   },
   "file_extension": ".py",
   "mimetype": "text/x-python",
   "name": "python",
   "nbconvert_exporter": "python",
   "pygments_lexer": "ipython3",
   "version": "3.6.3"
  }
 },
 "nbformat": 4,
 "nbformat_minor": 2
}
