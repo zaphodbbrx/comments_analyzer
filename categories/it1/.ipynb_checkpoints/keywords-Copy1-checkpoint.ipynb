{
 "cells": [
  {
   "cell_type": "code",
   "execution_count": 1,
   "metadata": {
    "collapsed": true
   },
   "outputs": [],
   "source": [
    "import pandas as pd\n",
    "import numpy as np"
   ]
  },
  {
   "cell_type": "code",
   "execution_count": 3,
   "metadata": {},
   "outputs": [],
   "source": [
    "from sklearn.feature_extraction.text import CountVectorizer, TfidfVectorizer\n",
    "comments = pd.read_csv('../comments_en_cleaned.csv')\n",
    "comments_en = comments[comments.lang == 'en']\n",
    "vect = CountVectorizer(ngram_range = (1,1), analyzer = 'word',\n",
    "                       stop_words = 'english',\n",
    "                       max_features = 500,\n",
    "                       min_df = 2, max_df = 0.95).fit(comments_en.Review)\n",
    "pw = list(vect.vocabulary_.keys())"
   ]
  },
  {
   "cell_type": "code",
   "execution_count": 4,
   "metadata": {
    "collapsed": true
   },
   "outputs": [],
   "source": [
    "import enchant\n",
    "from nltk.stem.wordnet import WordNetLemmatizer\n",
    "from nltk.tokenize import word_tokenize\n",
    "import re\n",
    "import nltk\n",
    "from nltk.corpus import wordnet\n",
    "from emoji.unicode_codes import UNICODE_EMOJI\n",
    "import emoji\n",
    "\n",
    "c = enchant.Dict(\"en_UK\")\n",
    "def check_spelling(text):\n",
    "    if not c.check(text):\n",
    "        suggestions = list(set(c.suggest(text)).intersection(set(pw)))\n",
    "        if len(suggestions)>0:\n",
    "            res = suggestions[0]\n",
    "        else:\n",
    "            res = text\n",
    "    else:\n",
    "        res = text\n",
    "    return res\n",
    "\n",
    "def get_wordnet_pos(treebank_tag):\n",
    "\n",
    "    if treebank_tag.startswith('J'):\n",
    "        return wordnet.ADJ\n",
    "    elif treebank_tag.startswith('V'):\n",
    "        return wordnet.VERB\n",
    "    elif treebank_tag.startswith('N'):\n",
    "        return wordnet.NOUN\n",
    "    elif treebank_tag.startswith('R'):\n",
    "        return wordnet.ADV\n",
    "    else:\n",
    "        return ''\n",
    "\n",
    "def clean_comment(text):\n",
    "    wnl = WordNetLemmatizer()\n",
    "    deacc = re.sub(r'\\!',' exclamation_point ', text)\n",
    "    tokens = word_tokenize(deacc)\n",
    "    tags = nltk.pos_tag(tokens)\n",
    "    processed = []\n",
    "    for (word, tag) in tags:\n",
    "        wn_tag = get_wordnet_pos(tag)\n",
    "        if wn_tag!='':\n",
    "            processed.append(wnl.lemmatize(word,wn_tag))\n",
    "        else:\n",
    "            processed.append(wnl.lemmatize(check_spelling(word)))\n",
    "    res = ' '.join(processed)\n",
    "    return res"
   ]
  },
  {
   "cell_type": "code",
   "execution_count": 5,
   "metadata": {
    "collapsed": true
   },
   "outputs": [],
   "source": [
    "labeled = pd.read_excel('kw_classified.xlsx')"
   ]
  },
  {
   "cell_type": "code",
   "execution_count": 6,
   "metadata": {
    "collapsed": true
   },
   "outputs": [],
   "source": [
    "labeled_other = labeled[labeled.kw_label==0]\n",
    "labeled_balance = labeled[labeled.kw_label==1]\n",
    "labeled_graphics = labeled[labeled.kw_label==2]\n",
    "labeled_bug = labeled[labeled.kw_label==3]\n",
    "labeled_ads = labeled[labeled.kw_label==4]\n",
    "labeled_money = labeled[labeled.kw_label==5]"
   ]
  },
  {
   "cell_type": "code",
   "execution_count": 9,
   "metadata": {
    "collapsed": true
   },
   "outputs": [],
   "source": [
    "from sklearn.feature_extraction.text import CountVectorizer, TfidfVectorizer\n",
    "\n",
    "def get_top_words(df, filename):\n",
    "    vect = CountVectorizer(ngram_range = (1,1), analyzer = 'word',\n",
    "                           stop_words = 'english',\n",
    "                           max_features = 50,\n",
    "                           min_df = 2, max_df = 0.95)\n",
    "    vectors = vect.fit_transform(df.cleaned)\n",
    "    z = zip(vect.get_feature_names(),\n",
    "        np.asarray(vectors.sum(axis=0)*1000/vectors.shape[0]).ravel())\n",
    "    freqs = pd.Series()\n",
    "    for fn,cnt in z:\n",
    "        freqs[fn] = cnt\n",
    "    freqs.sort_values(ascending = False).to_excel(filename+'.xlsx')\n",
    "    return freqs.sort_values(ascending = False)"
   ]
  },
  {
   "cell_type": "code",
   "execution_count": 10,
   "metadata": {
    "collapsed": true
   },
   "outputs": [],
   "source": [
    "other_freqs = get_top_words(labeled_other, 'other_topwords')\n",
    "balance_freqs = get_top_words(labeled_balance, 'balance_topwords')\n",
    "graphics_freqs = get_top_words(labeled_graphics, 'graphics_topwords')\n",
    "bug_freqs = get_top_words(labeled_bug, 'bug_topwords')\n",
    "ads_freqs = get_top_words(labeled_ads, 'ads_topwords')\n",
    "money_freqs = get_top_words(labeled_money, 'money_topwords')"
   ]
  },
  {
   "cell_type": "code",
   "execution_count": 14,
   "metadata": {
    "collapsed": true
   },
   "outputs": [],
   "source": [
    "from nltk.tokenize import TreebankWordTokenizer\n",
    "def check4word(w, freqs):\n",
    "    if w in freqs.index:\n",
    "        return freqs.loc[w].tolist()[0]\n",
    "    else:\n",
    "        return 0\n",
    "def get_cat_by_kw(text):\n",
    "    tokenizer = TreebankWordTokenizer()\n",
    "    cleaned = clean_comment(text)\n",
    "    tokens         = tokenizer.tokenize(cleaned)\n",
    "    cat_freqs      = pd.DataFrame(columns = tokens)\n",
    "    other_freqs    = pd.read_excel('it1/other_topwords.xlsx')\n",
    "    balance_freqs  = pd.read_excel('it1/balance_topwords.xlsx')\n",
    "    graphics_freqs = pd.read_excel('it1/graphics_topwords.xlsx')\n",
    "    bug_freqs = pd.read_excel('it1/bug_topwords.xlsx')\n",
    "    ads_freqs = pd.read_excel('it1/ads_topwords.xlsx')\n",
    "    money_freqs = pd.read_excel('it1/money_topwords.xlsx')\n",
    "    classes_nums = {\n",
    "        'Balance':1,\n",
    "        'Graphics':2,\n",
    "        'Bug':3,\n",
    "        'Advertising':4,\n",
    "        'Monetization':5,\n",
    "        'Other':0\n",
    "    }    \n",
    "    for w in tokens:\n",
    "        cat_freqs.loc['Other',w] = check4word(w,other_freqs)\n",
    "        cat_freqs.loc['Balance',w] = check4word(w,balance_freqs)\n",
    "        cat_freqs.loc['Graphics',w] = check4word(w,graphics_freqs)\n",
    "        cat_freqs.loc['Bug',w] = check4word(w,bug_freqs)\n",
    "        cat_freqs.loc['Advertising',w] = check4word(w,ads_freqs)\n",
    "        cat_freqs.loc['Monetization',w] = check4word(w,money_freqs)\n",
    "    return classes_nums[cat_freqs.apply(sum,axis =1).idxmax()]\n",
    "    #return cat_freqs#.apply(sum,axis =1).idxmax()"
   ]
  },
  {
   "cell_type": "code",
   "execution_count": 15,
   "metadata": {},
   "outputs": [
    {
     "data": {
      "text/plain": [
       "1"
      ]
     },
     "execution_count": 15,
     "metadata": {},
     "output_type": "execute_result"
    }
   ],
   "source": [
    "get_cat_by_kw('The game is so unfair when i level up some higher than me pops up i die all the time you earn money and you cant fix this ')"
   ]
  },
  {
   "cell_type": "code",
   "execution_count": 16,
   "metadata": {},
   "outputs": [
    {
     "name": "stdout",
     "output_type": "stream",
     "text": [
      "              precision    recall  f1-score   support\n",
      "\n",
      "       Other       0.45      1.00      0.62         5\n",
      "     Balance       0.33      0.40      0.36         5\n",
      "    Graphics       1.00      0.80      0.89         5\n",
      "         Bug       1.00      0.60      0.75         5\n",
      " Advertising       1.00      0.60      0.75         5\n",
      "Monetization       0.67      0.40      0.50         5\n",
      "\n",
      " avg / total       0.74      0.63      0.65        30\n",
      "\n",
      "model accuracy 0.6333\n"
     ]
    }
   ],
   "source": [
    "from sklearn.metrics import classification_report\n",
    "from sklearn.metrics import f1_score,roc_auc_score,accuracy_score\n",
    "\n",
    "def val_score():\n",
    "    class_names = ['Other',\n",
    "        'Balance',\n",
    "        'Graphics',\n",
    "        'Bug',\n",
    "        'Advertising',\n",
    "        'Monetization']   \n",
    "    val_en = pd.read_excel('temp data/val google play 2.xlsx')\n",
    "    classes_nums = {\n",
    "        'Balance':1,\n",
    "        'Graphics':2,\n",
    "        'Bug':3,\n",
    "        'Advertising':4,\n",
    "        'Monetization':5,\n",
    "        'Other':0\n",
    "    }    \n",
    "    #val_en['label_num'] = val_en.Label.map(classes_nums)\n",
    "    y_true = val_en.Label\n",
    "    y_pred = val_en.Review.apply(get_cat_by_kw)\n",
    "    val_en['predicted'] = y_pred\n",
    "    val_en.to_excel('predicted.xlsx')\n",
    "    print(classification_report(y_true, y_pred, target_names = class_names))\n",
    "    print('model accuracy %1.4f'%(accuracy_score(y_true, y_pred)))\n",
    "    return y_true,y_pred\n",
    "y_true,y_pred = val_score()"
   ]
  },
  {
   "cell_type": "code",
   "execution_count": 17,
   "metadata": {
    "collapsed": true
   },
   "outputs": [],
   "source": [
    "comments = pd.read_csv('comments_en_cleaned.csv')\n",
    "comments_en = comments[comments.lang == 'en']"
   ]
  },
  {
   "cell_type": "code",
   "execution_count": 18,
   "metadata": {
    "collapsed": true
   },
   "outputs": [],
   "source": [
    "kw_labels = comments_en.cleaned.apply(get_cat_by_kw)"
   ]
  },
  {
   "cell_type": "code",
   "execution_count": 11,
   "metadata": {
    "collapsed": true
   },
   "outputs": [],
   "source": [
    "comments_en['kw_label'] = kw_labels"
   ]
  },
  {
   "cell_type": "code",
   "execution_count": 12,
   "metadata": {
    "collapsed": true
   },
   "outputs": [],
   "source": [
    "comments_en.to_excel('kw_labels_it0.xlsx')"
   ]
  },
  {
   "cell_type": "code",
   "execution_count": null,
   "metadata": {
    "collapsed": true
   },
   "outputs": [],
   "source": []
  }
 ],
 "metadata": {
  "kernelspec": {
   "display_name": "Python 3",
   "language": "python",
   "name": "python3"
  },
  "language_info": {
   "codemirror_mode": {
    "name": "ipython",
    "version": 3
   },
   "file_extension": ".py",
   "mimetype": "text/x-python",
   "name": "python",
   "nbconvert_exporter": "python",
   "pygments_lexer": "ipython3",
   "version": "3.6.4"
  }
 },
 "nbformat": 4,
 "nbformat_minor": 2
}
