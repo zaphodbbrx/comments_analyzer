{
 "cells": [
  {
   "cell_type": "code",
   "execution_count": 2,
   "metadata": {
    "collapsed": true
   },
   "outputs": [],
   "source": [
    "import pandas as pd\n",
    "import numpy as np\n",
    "import nltk"
   ]
  },
  {
   "cell_type": "code",
   "execution_count": 3,
   "metadata": {
    "collapsed": true
   },
   "outputs": [],
   "source": [
    "labeled = pd.read_excel('manual_labels.xlsx')\n",
    "unlabeled = pd.read_excel('manual_unlabeled.xlsx')"
   ]
  },
  {
   "cell_type": "code",
   "execution_count": null,
   "metadata": {
    "collapsed": true
   },
   "outputs": [],
   "source": [
    "from nltk.stem.wordnet import WordNetLemmatizer\n",
    "\n",
    "wnl = WordNetLemmatizer()"
   ]
  },
  {
   "cell_type": "code",
   "execution_count": 1,
   "metadata": {
    "collapsed": true
   },
   "outputs": [],
   "source": [
    "from sklearn.dummy import DummyClassifier\n",
    "from sklearn.linear_model import LogisticRegression, RidgeClassifier\n",
    "from sklearn.naive_bayes import BernoulliNB, MultinomialNB\n",
    "from sklearn.neighbors import KNeighborsClassifier\n",
    "from sklearn.ensemble import RandomForestClassifier, GradientBoostingClassifier\n",
    "from sklearn.svm import SVC\n",
    "from sklearn.neural_network import MLPClassifier\n",
    "from sklearn.multiclass import OneVsRestClassifier\n",
    "from sklearn.model_selection import train_test_split\n",
    "from sklearn.metrics import classification_report"
   ]
  },
  {
   "cell_type": "code",
   "execution_count": 4,
   "metadata": {
    "collapsed": true
   },
   "outputs": [],
   "source": [
    "from sklearn.feature_extraction.text import CountVectorizer, TfidfVectorizer\n",
    "vect = CountVectorizer(ngram_range = (1,3), analyzer = 'word',\n",
    "                       stop_words = 'english',\n",
    "                       min_df = 2, max_df = 0.8).fit(labeled.Review)\n",
    "feats = vect.transform(labeled.Review)\n",
    "labels = labeled.label"
   ]
  },
  {
   "cell_type": "code",
   "execution_count": 5,
   "metadata": {
    "collapsed": true
   },
   "outputs": [],
   "source": [
    "X_train, X_test, y_train, y_test = train_test_split(feats, labels, test_size=0.2)"
   ]
  },
  {
   "cell_type": "code",
   "execution_count": 6,
   "metadata": {
    "collapsed": true
   },
   "outputs": [],
   "source": [
    "def eval_model(y_train,y_test,y_train_pred,y_test_pred):\n",
    "    class_names = ['unknown',\n",
    "        'Crash',\n",
    "        'Balance problems',\n",
    "        'Synchronization',\n",
    "        'Positive',\n",
    "        'Bug']\n",
    "    print('train scores\\n')\n",
    "    print(classification_report(y_train, y_train_pred, target_names = class_names))\n",
    "    print('test scores\\n')\n",
    "    print(classification_report(y_test, y_test_pred, target_names = class_names))"
   ]
  },
  {
   "cell_type": "code",
   "execution_count": 7,
   "metadata": {},
   "outputs": [
    {
     "name": "stdout",
     "output_type": "stream",
     "text": [
      "train scores\n",
      "\n",
      "                  precision    recall  f1-score   support\n",
      "\n",
      "         unknown       0.18      0.04      0.07        49\n",
      "           Crash       0.00      0.00      0.00         7\n",
      "Balance problems       0.22      0.08      0.12       157\n",
      " Synchronization       0.00      0.00      0.00        25\n",
      "        Positive       0.63      0.54      0.58       504\n",
      "             Bug       0.05      0.26      0.09        58\n",
      "\n",
      "     avg / total       0.45      0.38      0.40       800\n",
      "\n",
      "test scores\n",
      "\n",
      "                  precision    recall  f1-score   support\n",
      "\n",
      "         unknown       0.00      0.00      0.00        11\n",
      "           Crash       0.00      0.00      0.00         1\n",
      "Balance problems       0.29      0.13      0.18        46\n",
      " Synchronization       0.00      0.00      0.00         6\n",
      "        Positive       0.65      0.55      0.59       120\n",
      "             Bug       0.11      0.50      0.18        16\n",
      "\n",
      "     avg / total       0.46      0.40      0.41       200\n",
      "\n"
     ]
    }
   ],
   "source": [
    "m = OneVsRestClassifier(DummyClassifier()).fit(X_train, y_train)\n",
    "y_train_pred = m.predict(X_train)\n",
    "y_test_pred = m.predict(X_test)\n",
    "eval_model(y_train,y_test,y_train_pred,y_test_pred)"
   ]
  },
  {
   "cell_type": "code",
   "execution_count": 10,
   "metadata": {},
   "outputs": [
    {
     "name": "stdout",
     "output_type": "stream",
     "text": [
      "train scores\n",
      "\n",
      "                  precision    recall  f1-score   support\n",
      "\n",
      "         unknown       0.77      0.61      0.68        49\n",
      "           Crash       0.88      1.00      0.93         7\n",
      "Balance problems       0.98      0.82      0.89       157\n",
      " Synchronization       0.96      0.96      0.96        25\n",
      "        Positive       0.91      0.98      0.94       504\n",
      "             Bug       0.93      0.88      0.90        58\n",
      "\n",
      "     avg / total       0.92      0.92      0.92       800\n",
      "\n",
      "test scores\n",
      "\n",
      "                  precision    recall  f1-score   support\n",
      "\n",
      "         unknown       0.25      0.36      0.30        11\n",
      "           Crash       0.00      0.00      0.00         1\n",
      "Balance problems       0.73      0.48      0.58        46\n",
      " Synchronization       0.25      0.17      0.20         6\n",
      "        Positive       0.79      0.93      0.85       120\n",
      "             Bug       0.67      0.38      0.48        16\n",
      "\n",
      "     avg / total       0.72      0.72      0.71       200\n",
      "\n"
     ]
    }
   ],
   "source": [
    "m = LogisticRegression(C = 0.5, class_weight = 'balanced').fit(X_train, y_train)\n",
    "y_train_pred = m.predict(X_train)\n",
    "y_test_pred = m.predict(X_test)\n",
    "eval_model(y_train,y_test,y_train_pred,y_test_pred)"
   ]
  },
  {
   "cell_type": "code",
   "execution_count": null,
   "metadata": {
    "collapsed": true
   },
   "outputs": [],
   "source": []
  }
 ],
 "metadata": {
  "kernelspec": {
   "display_name": "Python 3",
   "language": "python",
   "name": "python3"
  },
  "language_info": {
   "codemirror_mode": {
    "name": "ipython",
    "version": 3
   },
   "file_extension": ".py",
   "mimetype": "text/x-python",
   "name": "python",
   "nbconvert_exporter": "python",
   "pygments_lexer": "ipython3",
   "version": "3.6.4"
  }
 },
 "nbformat": 4,
 "nbformat_minor": 2
}
