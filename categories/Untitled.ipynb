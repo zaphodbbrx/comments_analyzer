{
 "cells": [
  {
   "cell_type": "code",
   "execution_count": 69,
   "metadata": {},
   "outputs": [],
   "source": [
    "import pandas as pd\n",
    "import numpy as np\n",
    "import nltk"
   ]
  },
  {
   "cell_type": "code",
   "execution_count": 2,
   "metadata": {},
   "outputs": [],
   "source": [
    "labeled = pd.read_excel('manual_labels.xlsx')\n",
    "unlabeled = pd.read_excel('manual_unlabeled.xlsx')"
   ]
  },
  {
   "cell_type": "code",
   "execution_count": 11,
   "metadata": {},
   "outputs": [],
   "source": [
    "man_crash = labeled[labeled.label==1]\n",
    "man_balance = labeled[labeled.label==2]\n",
    "man_sync = labeled[labeled.label==3]\n",
    "man_pos = labeled[labeled.label==4]\n",
    "man_bug = labeled[labeled.label==5]"
   ]
  },
  {
   "cell_type": "code",
   "execution_count": 51,
   "metadata": {},
   "outputs": [],
   "source": [
    "from sklearn.feature_extraction.text import CountVectorizer, TfidfVectorizer\n",
    "vect = CountVectorizer(ngram_range = (1,1),\n",
    "                       analyzer = 'word',\n",
    "                       stop_words = 'english',\n",
    "                       min_df = 1, max_df = 0.9).fit(man_crash.Review)\n",
    "crash_v = list(vect.vocabulary_.keys())"
   ]
  },
  {
   "cell_type": "code",
   "execution_count": 52,
   "metadata": {},
   "outputs": [],
   "source": [
    "from sklearn.feature_extraction.text import CountVectorizer, TfidfVectorizer\n",
    "vect = CountVectorizer(ngram_range = (1,1),\n",
    "                       analyzer = 'word',\n",
    "                       stop_words = 'english',\n",
    "                       min_df = 1, max_df = 0.9).fit(man_balance.Review)\n",
    "balance_v = list(vect.vocabulary_.keys())"
   ]
  },
  {
   "cell_type": "code",
   "execution_count": 53,
   "metadata": {},
   "outputs": [],
   "source": [
    "from sklearn.feature_extraction.text import CountVectorizer, TfidfVectorizer\n",
    "vect = CountVectorizer(ngram_range = (1,1),\n",
    "                       analyzer = 'word',\n",
    "                       stop_words = 'english',\n",
    "                       min_df = 1, max_df = 0.9).fit(man_sync.Review)\n",
    "sync_v = list(vect.vocabulary_.keys())"
   ]
  },
  {
   "cell_type": "code",
   "execution_count": 54,
   "metadata": {},
   "outputs": [],
   "source": [
    "from sklearn.feature_extraction.text import CountVectorizer, TfidfVectorizer\n",
    "vect = CountVectorizer(ngram_range = (1,1),\n",
    "                       analyzer = 'word',\n",
    "                       stop_words = 'english',\n",
    "                       min_df = 1, max_df = 0.9).fit(man_pos.Review)\n",
    "pos_v = list(vect.vocabulary_.keys())"
   ]
  },
  {
   "cell_type": "code",
   "execution_count": 55,
   "metadata": {},
   "outputs": [],
   "source": [
    "from sklearn.feature_extraction.text import CountVectorizer, TfidfVectorizer\n",
    "vect = CountVectorizer(ngram_range = (1,1),\n",
    "                       analyzer = 'word',\n",
    "                       stop_words = 'english',\n",
    "                       min_df = 1, max_df = 0.9).fit(man_bug.Review)\n",
    "bug_v = list(vect.vocabulary_.keys())"
   ]
  },
  {
   "cell_type": "code",
   "execution_count": 56,
   "metadata": {},
   "outputs": [],
   "source": [
    "crash_kw = list(set(crash_v)-set(balance_v+sync_v+pos_v+bug_v))"
   ]
  },
  {
   "cell_type": "code",
   "execution_count": 57,
   "metadata": {},
   "outputs": [],
   "source": [
    "balance_kw = list(set(balance_v)-set(crash_v+sync_v+pos_v+bug_v))"
   ]
  },
  {
   "cell_type": "code",
   "execution_count": 58,
   "metadata": {},
   "outputs": [],
   "source": [
    "sync_kw = list(set(sync_v)-set(crash_v+balance_v+pos_v+bug_v))"
   ]
  },
  {
   "cell_type": "code",
   "execution_count": 59,
   "metadata": {},
   "outputs": [],
   "source": [
    "pos_kw = list(set(pos_v)-set(crash_v+balance_v+sync_v+bug_v))"
   ]
  },
  {
   "cell_type": "code",
   "execution_count": 60,
   "metadata": {},
   "outputs": [],
   "source": [
    "bug_kw = list(set(bug_v)-set(crash_v+balance_v+sync_v+pos_v))"
   ]
  },
  {
   "cell_type": "code",
   "execution_count": 76,
   "metadata": {},
   "outputs": [],
   "source": [
    "def kw_class(text):\n",
    "    tokens = tokens = nltk.word_tokenize(text)\n",
    "    for w in tokens:\n",
    "        if w in crash_v:\n",
    "            return 1\n",
    "        elif w in bug_v:\n",
    "            return 5\n",
    "        elif w in sync_v:\n",
    "            return 3\n",
    "        elif w in balance_v:\n",
    "            return 2\n",
    "        elif w in pos_v:\n",
    "            return 4\n",
    "        else:\n",
    "            return 0"
   ]
  },
  {
   "cell_type": "code",
   "execution_count": 77,
   "metadata": {},
   "outputs": [],
   "source": [
    "unlabeled['label'] = unlabeled.Review.apply(kw_class)"
   ]
  },
  {
   "cell_type": "code",
   "execution_count": 78,
   "metadata": {},
   "outputs": [
    {
     "data": {
      "text/plain": [
       "0    12647\n",
       "5       58\n",
       "3       37\n",
       "2       21\n",
       "1       21\n",
       "4       16\n",
       "Name: label, dtype: int64"
      ]
     },
     "execution_count": 78,
     "metadata": {},
     "output_type": "execute_result"
    }
   ],
   "source": [
    "unlabeled.label.value_counts()"
   ]
  },
  {
   "cell_type": "code",
   "execution_count": null,
   "metadata": {},
   "outputs": [],
   "source": []
  }
 ],
 "metadata": {
  "kernelspec": {
   "display_name": "Python 3",
   "language": "python",
   "name": "python3"
  },
  "language_info": {
   "codemirror_mode": {
    "name": "ipython",
    "version": 3
   },
   "file_extension": ".py",
   "mimetype": "text/x-python",
   "name": "python",
   "nbconvert_exporter": "python",
   "pygments_lexer": "ipython3",
   "version": "3.6.3"
  }
 },
 "nbformat": 4,
 "nbformat_minor": 2
}
