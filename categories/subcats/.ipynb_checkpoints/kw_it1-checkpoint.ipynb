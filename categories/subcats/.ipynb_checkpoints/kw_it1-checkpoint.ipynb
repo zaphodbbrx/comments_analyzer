{
 "cells": [
  {
   "cell_type": "code",
   "execution_count": 101,
   "metadata": {
    "collapsed": true
   },
   "outputs": [],
   "source": [
    "import pandas as pd\n",
    "import numpy as np"
   ]
  },
  {
   "cell_type": "code",
   "execution_count": 102,
   "metadata": {
    "collapsed": true
   },
   "outputs": [],
   "source": [
    "from sklearn.feature_extraction.text import CountVectorizer, TfidfVectorizer\n",
    "comments = pd.read_csv('../comments_en_cleaned.csv')\n",
    "comments_en = comments[comments.lang == 'en']\n",
    "vect = CountVectorizer(ngram_range = (1,1), analyzer = 'word',\n",
    "                       stop_words = 'english',\n",
    "                       max_features = 500,\n",
    "                       min_df = 2, max_df = 0.95).fit(comments_en.Review)\n",
    "pw = list(vect.vocabulary_.keys())"
   ]
  },
  {
   "cell_type": "code",
   "execution_count": 103,
   "metadata": {
    "collapsed": true
   },
   "outputs": [],
   "source": [
    "labeled4 = pd.read_excel('../temp data/for_labeling 4.xlsx').loc[:,['Review', 'Label', 'Sublabel']]\n",
    "labeled1 = pd.read_excel('../temp data/for_labeling 1.xlsx').loc[:,['Review', 'Label', 'Sublabel']]\n",
    "labeled2 = pd.read_excel('../temp data/for_labeling 2.xlsx').loc[:,['Review', 'Label', 'Sublabel']]"
   ]
  },
  {
   "cell_type": "code",
   "execution_count": 104,
   "metadata": {},
   "outputs": [
    {
     "data": {
      "text/plain": [
       "3.0    49\n",
       "1.0    24\n",
       "2.0    11\n",
       "Name: Sublabel, dtype: int64"
      ]
     },
     "execution_count": 104,
     "metadata": {},
     "output_type": "execute_result"
    }
   ],
   "source": [
    "labeled2.Sublabel.value_counts()"
   ]
  },
  {
   "cell_type": "code",
   "execution_count": 105,
   "metadata": {
    "collapsed": true
   },
   "outputs": [],
   "source": [
    "labeled1.Sublabel = labeled1.Sublabel.apply(lambda x: str(x).lower())\n",
    "labeled4.Sublabel = labeled4.Sublabel.apply(lambda x: str(x).lower())"
   ]
  },
  {
   "cell_type": "code",
   "execution_count": 106,
   "metadata": {},
   "outputs": [
    {
     "data": {
      "text/plain": [
       "nan                 4955\n",
       "combat balance        24\n",
       "matchmaking           17\n",
       "gameplay balance      11\n",
       "Name: Sublabel, dtype: int64"
      ]
     },
     "execution_count": 106,
     "metadata": {},
     "output_type": "execute_result"
    }
   ],
   "source": [
    "labeled4.Sublabel.value_counts()"
   ]
  },
  {
   "cell_type": "code",
   "execution_count": 107,
   "metadata": {
    "collapsed": true
   },
   "outputs": [],
   "source": [
    "labeled1['sublabel_num'] = labeled1.Sublabel.map(subclasses_nums)\n",
    "labeled4['sublabel_num'] = labeled4.Sublabel.map(subclasses_nums)\n",
    "labeled2['sublabel_num'] = labeled2.Sublabel"
   ]
  },
  {
   "cell_type": "code",
   "execution_count": 108,
   "metadata": {},
   "outputs": [
    {
     "data": {
      "text/plain": [
       "3.0    49\n",
       "1.0    24\n",
       "2.0    11\n",
       "Name: sublabel_num, dtype: int64"
      ]
     },
     "execution_count": 108,
     "metadata": {},
     "output_type": "execute_result"
    }
   ],
   "source": [
    "labeled2.sublabel_num.value_counts()"
   ]
  },
  {
   "cell_type": "code",
   "execution_count": 109,
   "metadata": {
    "collapsed": true
   },
   "outputs": [],
   "source": [
    "classes_nums = {\n",
    "    'Balance':1,\n",
    "    'Graphics':2,\n",
    "    'Bug':3,\n",
    "    'Advertising':4,\n",
    "    'Monetization':5,\n",
    "    'Other':0\n",
    "}\n",
    "subclasses_nums = {\n",
    "    'combat balance': 1,\n",
    "    'gameplay balance':2,\n",
    "    'matchmaking':3\n",
    "}\n",
    "labeled1['label_num'] = labeled1.Label.map(classes_nums)\n",
    "labeled4['label_num'] = labeled4.Label.map(classes_nums)\n",
    "\n",
    "labeled1['sublabel_num'] = labeled1.Sublabel.map(subclasses_nums)\n",
    "labeled4['sublabel_num'] = labeled4.Sublabel.map(subclasses_nums)\n",
    "\n",
    "labeled2['label_num'] = labeled2.Label\n"
   ]
  },
  {
   "cell_type": "code",
   "execution_count": 110,
   "metadata": {},
   "outputs": [
    {
     "data": {
      "text/plain": [
       "(53, 5)"
      ]
     },
     "execution_count": 110,
     "metadata": {},
     "output_type": "execute_result"
    }
   ],
   "source": [
    "labeled4[labeled4.label_num==1].shape"
   ]
  },
  {
   "cell_type": "code",
   "execution_count": 111,
   "metadata": {},
   "outputs": [
    {
     "data": {
      "text/plain": [
       "nan                 4955\n",
       "combat balance        24\n",
       "matchmaking           17\n",
       "gameplay balance      11\n",
       "Name: Sublabel, dtype: int64"
      ]
     },
     "execution_count": 111,
     "metadata": {},
     "output_type": "execute_result"
    }
   ],
   "source": [
    "labeled4.Sublabel.value_counts()"
   ]
  },
  {
   "cell_type": "code",
   "execution_count": 112,
   "metadata": {},
   "outputs": [
    {
     "data": {
      "text/plain": [
       "1.0    24\n",
       "3.0    17\n",
       "2.0    11\n",
       "Name: sublabel_num, dtype: int64"
      ]
     },
     "execution_count": 112,
     "metadata": {},
     "output_type": "execute_result"
    }
   ],
   "source": [
    "labeled4.sublabel_num.value_counts()"
   ]
  },
  {
   "cell_type": "code",
   "execution_count": 113,
   "metadata": {
    "collapsed": true
   },
   "outputs": [],
   "source": [
    "labeled = pd.concat([labeled4, labeled2, labeled1], axis = 0)\n",
    "labeled = labeled.dropna(axis = 0)"
   ]
  },
  {
   "cell_type": "code",
   "execution_count": 114,
   "metadata": {},
   "outputs": [
    {
     "data": {
      "text/plain": [
       "1.0    73\n",
       "3.0    69\n",
       "2.0    22\n",
       "Name: sublabel_num, dtype: int64"
      ]
     },
     "execution_count": 114,
     "metadata": {},
     "output_type": "execute_result"
    }
   ],
   "source": [
    "labeled.sublabel_num.value_counts()"
   ]
  },
  {
   "cell_type": "code",
   "execution_count": 115,
   "metadata": {
    "collapsed": true
   },
   "outputs": [],
   "source": [
    "import enchant\n",
    "from nltk.stem.wordnet import WordNetLemmatizer\n",
    "from nltk.tokenize import word_tokenize,TreebankWordTokenizer\n",
    "import re\n",
    "import nltk\n",
    "from nltk.corpus import wordnet\n",
    "from emoji.unicode_codes import UNICODE_EMOJI\n",
    "import emoji\n",
    "\n",
    "c = enchant.Dict(\"en_UK\")\n",
    "def check_spelling(text):\n",
    "    if not c.check(text):\n",
    "        suggestions = list(set(c.suggest(text)).intersection(set(pw)))\n",
    "        if len(suggestions)>0:\n",
    "            res = suggestions[0]\n",
    "        elif len(c.suggest(text))>0:\n",
    "            res = c.suggest(text)[0]\n",
    "        else:\n",
    "            res = text\n",
    "    else:\n",
    "        res = text\n",
    "    return res\n",
    "\n",
    "def get_wordnet_pos(treebank_tag):\n",
    "\n",
    "    if treebank_tag.startswith('J'):\n",
    "        return wordnet.ADJ\n",
    "    elif treebank_tag.startswith('V'):\n",
    "        return wordnet.VERB\n",
    "    elif treebank_tag.startswith('N'):\n",
    "        return wordnet.NOUN\n",
    "    elif treebank_tag.startswith('R'):\n",
    "        return wordnet.ADV\n",
    "    else:\n",
    "        return ''\n",
    "\n",
    "def clean_comment(text):\n",
    "    wnl = WordNetLemmatizer()\n",
    "    tokenizer = TreebankWordTokenizer()\n",
    "    #deacc = re.sub(r'\\!',' exclamation_point ', text)\n",
    "    tokens = tokenizer.tokenize(text)\n",
    "    tags = nltk.pos_tag(tokens)\n",
    "    processed = []\n",
    "    for (word, tag) in tags:\n",
    "        wn_tag = get_wordnet_pos(tag)\n",
    "        if wn_tag!='':\n",
    "            processed.append(wnl.lemmatize(check_spelling(word),wn_tag))\n",
    "        else:\n",
    "            processed.append(wnl.lemmatize(check_spelling(word)))\n",
    "    res = ' '.join(processed)\n",
    "    return res.lower()"
   ]
  },
  {
   "cell_type": "code",
   "execution_count": 116,
   "metadata": {
    "collapsed": true
   },
   "outputs": [],
   "source": [
    "labeled.loc[:,'cleaned'] = labeled.Review.apply(clean_comment)"
   ]
  },
  {
   "cell_type": "code",
   "execution_count": 117,
   "metadata": {
    "collapsed": true
   },
   "outputs": [],
   "source": [
    "labeled_combat = labeled[labeled.sublabel_num==1]\n",
    "labeled_gameplay = labeled[labeled.sublabel_num==2]\n",
    "labeled_matchmaking = labeled[labeled.sublabel_num==3]"
   ]
  },
  {
   "cell_type": "code",
   "execution_count": 118,
   "metadata": {
    "collapsed": true
   },
   "outputs": [],
   "source": [
    "from sklearn.feature_extraction.text import CountVectorizer, TfidfVectorizer\n",
    "\n",
    "def get_top_words(df, filename):\n",
    "    vect = CountVectorizer(ngram_range = (1,1), analyzer = 'word',\n",
    "                           stop_words = 'english',\n",
    "                           max_features = 50,\n",
    "                           min_df = 2, max_df = 0.95)\n",
    "    vectors = vect.fit_transform(df.cleaned)\n",
    "    z = zip(vect.get_feature_names(),\n",
    "        np.asarray(vectors.sum(axis=0)*1000/vectors.shape[0]).ravel())\n",
    "    freqs = pd.Series()\n",
    "    for fn,cnt in z:\n",
    "        freqs[fn] = cnt\n",
    "    freqs.sort_values(ascending = False).to_excel(filename+'.xlsx')\n",
    "    return freqs.sort_values(ascending = False)"
   ]
  },
  {
   "cell_type": "code",
   "execution_count": 121,
   "metadata": {
    "collapsed": true
   },
   "outputs": [],
   "source": [
    "#combat_freqs = get_top_words(labeled_combat, 'combat_topwords')\n",
    "#gameplay_freqs = get_top_words(labeled_gameplay, 'gameplay_topwords')\n",
    "#matchmaking_freqs = get_top_words(labeled_matchmaking, 'matchmaking_topwords')"
   ]
  },
  {
   "cell_type": "code",
   "execution_count": 122,
   "metadata": {
    "collapsed": true
   },
   "outputs": [],
   "source": [
    "from nltk.tokenize import TreebankWordTokenizer\n",
    "def check4word(w, freqs):\n",
    "    if w in freqs.index:\n",
    "        return freqs.loc[w].tolist()[0]\n",
    "    else:\n",
    "        return 0\n",
    "def get_cat_by_kw(text):\n",
    "    tokenizer = TreebankWordTokenizer()\n",
    "    cleaned = clean_comment(text)\n",
    "    tokens         = tokenizer.tokenize(cleaned)\n",
    "    cat_freqs      = pd.DataFrame(columns = tokens)\n",
    "    combat_freqs    = pd.read_excel('combat_topwords.xlsx')\n",
    "    gameplay_freqs  = pd.read_excel('gameplay_topwords.xlsx')\n",
    "    matchmaking_freqs = pd.read_excel('matchmaking_topwords.xlsx')\n",
    "    classes_nums = {\n",
    "        'Combat Balance':1,\n",
    "        'Gameplay Balance':2,\n",
    "        'Matchmaking':3,\n",
    "        'Other':0\n",
    "    }    \n",
    "    for w in tokens:\n",
    "        #cat_freqs.loc['Other',w] = check4word(w,other_freqs)\n",
    "        cat_freqs.loc['Combat Balance',w] = check4word(w,combat_freqs)\n",
    "        cat_freqs.loc['Gameplay Balance',w] = check4word(w,gameplay_freqs)\n",
    "        cat_freqs.loc['Matchmaking',w] = check4word(w,matchmaking_freqs)\n",
    "    if cat_freqs.apply(sum).sum()==0:\n",
    "        return 0\n",
    "    else:\n",
    "        return classes_nums[cat_freqs.apply(sum,axis =1).idxmax()]\n",
    "    return cat_freqs#.apply(sum,axis =1).idxmax()"
   ]
  },
  {
   "cell_type": "code",
   "execution_count": 123,
   "metadata": {},
   "outputs": [
    {
     "name": "stdout",
     "output_type": "stream",
     "text": [
      "matchmaking\n",
      "be\n",
      "unfair\n"
     ]
    },
    {
     "data": {
      "text/plain": [
       "3"
      ]
     },
     "execution_count": 123,
     "metadata": {},
     "output_type": "execute_result"
    }
   ],
   "source": [
    "get_cat_by_kw('Matchmaking is unfair')"
   ]
  },
  {
   "cell_type": "code",
   "execution_count": null,
   "metadata": {
    "collapsed": true
   },
   "outputs": [],
   "source": []
  }
 ],
 "metadata": {
  "kernelspec": {
   "display_name": "Python 3",
   "language": "python",
   "name": "python3"
  },
  "language_info": {
   "codemirror_mode": {
    "name": "ipython",
    "version": 3
   },
   "file_extension": ".py",
   "mimetype": "text/x-python",
   "name": "python",
   "nbconvert_exporter": "python",
   "pygments_lexer": "ipython3",
   "version": "3.6.4"
  }
 },
 "nbformat": 4,
 "nbformat_minor": 2
}
