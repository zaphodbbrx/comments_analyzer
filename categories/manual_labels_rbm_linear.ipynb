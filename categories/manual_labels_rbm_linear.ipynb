{
 "cells": [
  {
   "cell_type": "code",
   "execution_count": 1,
   "metadata": {
    "collapsed": true
   },
   "outputs": [],
   "source": [
    "import pandas as pd\n",
    "import numpy as np\n",
    "from langdetect import detect\n",
    "import re"
   ]
  },
  {
   "cell_type": "code",
   "execution_count": 2,
   "metadata": {
    "collapsed": true
   },
   "outputs": [],
   "source": [
    "from nltk.stem.wordnet import WordNetLemmatizer\n",
    "from nltk.tokenize import word_tokenize\n",
    "import re\n",
    "def clean_comment(text):\n",
    "    wnl = WordNetLemmatizer()\n",
    "    deacc = re.sub(r'\\W',' ', text)\n",
    "    tokens = word_tokenize(deacc)\n",
    "    res = ''\n",
    "    for t in tokens:\n",
    "        res += wnl.lemmatize(t)+' '\n",
    "    return res"
   ]
  },
  {
   "cell_type": "code",
   "execution_count": 3,
   "metadata": {},
   "outputs": [
    {
     "name": "stderr",
     "output_type": "stream",
     "text": [
      "/home/lsm/anaconda3/lib/python3.6/site-packages/ipykernel_launcher.py:3: SettingWithCopyWarning: \n",
      "A value is trying to be set on a copy of a slice from a DataFrame.\n",
      "Try using .loc[row_indexer,col_indexer] = value instead\n",
      "\n",
      "See the caveats in the documentation: http://pandas.pydata.org/pandas-docs/stable/indexing.html#indexing-view-versus-copy\n",
      "  This is separate from the ipykernel package so we can avoid doing imports until\n"
     ]
    }
   ],
   "source": [
    "comments = pd.read_csv('../data/comments_lang.csv')\n",
    "comments_en = comments[comments.lang == 'en']\n",
    "comments_en['cleaned'] = comments_en.Review.apply(clean_comment)\n",
    "from sklearn.feature_extraction.text import CountVectorizer, TfidfVectorizer\n",
    "vect = CountVectorizer(ngram_range = (1,1), analyzer = 'word',\n",
    "                       stop_words = 'english',\n",
    "                       max_features = 200,\n",
    "                       min_df = 2, max_df = 0.95).fit(comments_en.cleaned)\n",
    "pw = list(vect.vocabulary_.keys())"
   ]
  },
  {
   "cell_type": "code",
   "execution_count": 4,
   "metadata": {
    "collapsed": true
   },
   "outputs": [],
   "source": [
    "def check_spelling(text):\n",
    "    import enchant\n",
    "    c = enchant.Dict(\"en_UK\")\n",
    "    if not c.check(text):\n",
    "        suggestions = list(set(c.suggest(text)).intersection(set(pw)))\n",
    "        if len(suggestions)>0:\n",
    "            res = suggestions[0]\n",
    "        else:\n",
    "            res = text\n",
    "    else:\n",
    "        res = text\n",
    "    return res"
   ]
  },
  {
   "cell_type": "code",
   "execution_count": 5,
   "metadata": {
    "collapsed": true
   },
   "outputs": [],
   "source": [
    "labeled1 = pd.read_excel('manual_labels.xlsx')\n",
    "labeled2 = pd.read_excel('manual_labels2.xlsx')\n",
    "labeled3 = pd.read_excel('manual_labels3.xlsx')\n",
    "labeled4 = pd.read_excel('manual_labels4.xlsx')"
   ]
  },
  {
   "cell_type": "code",
   "execution_count": 6,
   "metadata": {},
   "outputs": [
    {
     "data": {
      "text/plain": [
       "4    574\n",
       "2    204\n",
       "5     93\n",
       "0     77\n",
       "3     42\n",
       "1     10\n",
       "Name: label, dtype: int64"
      ]
     },
     "execution_count": 6,
     "metadata": {},
     "output_type": "execute_result"
    }
   ],
   "source": [
    "labeled4.label.value_counts()"
   ]
  },
  {
   "cell_type": "code",
   "execution_count": 7,
   "metadata": {},
   "outputs": [
    {
     "data": {
      "text/plain": [
       "(1000, 5)"
      ]
     },
     "execution_count": 7,
     "metadata": {},
     "output_type": "execute_result"
    }
   ],
   "source": [
    "labeled2.shape"
   ]
  },
  {
   "cell_type": "code",
   "execution_count": 8,
   "metadata": {},
   "outputs": [
    {
     "data": {
      "text/plain": [
       "4    624\n",
       "2    203\n",
       "5     74\n",
       "0     60\n",
       "3     31\n",
       "1      8\n",
       "Name: label, dtype: int64"
      ]
     },
     "execution_count": 8,
     "metadata": {},
     "output_type": "execute_result"
    }
   ],
   "source": [
    "labeled1.label.value_counts()"
   ]
  },
  {
   "cell_type": "code",
   "execution_count": 9,
   "metadata": {
    "collapsed": true
   },
   "outputs": [],
   "source": [
    "def get_tokens(text):\n",
    "    wnl = WordNetLemmatizer()\n",
    "    deacc = re.sub(r'\\W',' ', text)\n",
    "    tokens = word_tokenize(deacc)\n",
    "    return tokens"
   ]
  },
  {
   "cell_type": "code",
   "execution_count": 15,
   "metadata": {
    "collapsed": true
   },
   "outputs": [],
   "source": [
    "from nltk.stem.wordnet import WordNetLemmatizer\n",
    "from nltk.tokenize import word_tokenize\n",
    "import re\n",
    "import nltk\n",
    "from nltk.corpus import wordnet\n",
    "from emoji.unicode_codes import UNICODE_EMOJI\n",
    "import emoji\n",
    "def get_wordnet_pos(treebank_tag):\n",
    "\n",
    "    if treebank_tag.startswith('J'):\n",
    "        return wordnet.ADJ\n",
    "    elif treebank_tag.startswith('V'):\n",
    "        return wordnet.VERB\n",
    "    elif treebank_tag.startswith('N'):\n",
    "        return wordnet.NOUN\n",
    "    elif treebank_tag.startswith('R'):\n",
    "        return wordnet.ADV\n",
    "    else:\n",
    "        return ''\n",
    "\n",
    "def clean_comment(text):\n",
    "    wnl = WordNetLemmatizer()\n",
    "    #deacc = re.sub(r'\\!',' exclamation_point ', text)\n",
    "    tokens = word_tokenize(text)\n",
    "    tags = nltk.pos_tag(tokens)\n",
    "    processed = []\n",
    "    for (word, tag) in tags:\n",
    "        wn_tag = get_wordnet_pos(tag)\n",
    "        if wn_tag!='':\n",
    "            processed.append(wnl.lemmatize(word,wn_tag))\n",
    "        else:\n",
    "            processed.append(wnl.lemmatize(check_spelling(word)))\n",
    "    return ' '.join(processed)"
   ]
  },
  {
   "cell_type": "code",
   "execution_count": 11,
   "metadata": {
    "collapsed": true
   },
   "outputs": [],
   "source": [
    "labeled = pd.concat([labeled1, labeled2, labeled3, labeled4],axis = 0)"
   ]
  },
  {
   "cell_type": "code",
   "execution_count": 12,
   "metadata": {
    "collapsed": true
   },
   "outputs": [],
   "source": [
    "labeled.loc[:,'cleaned'] = labeled.Review.apply(clean_comment)"
   ]
  },
  {
   "cell_type": "code",
   "execution_count": 13,
   "metadata": {
    "collapsed": true
   },
   "outputs": [],
   "source": [
    "labeled['tokens'] = labeled.Review.apply(get_tokens)"
   ]
  },
  {
   "cell_type": "code",
   "execution_count": 14,
   "metadata": {
    "collapsed": true
   },
   "outputs": [],
   "source": [
    "labeled_long = labeled[labeled.tokens.apply(len)>6]\n",
    "labeled_neg = labeled[labeled.label!=4]"
   ]
  },
  {
   "cell_type": "code",
   "execution_count": 16,
   "metadata": {},
   "outputs": [
    {
     "name": "stderr",
     "output_type": "stream",
     "text": [
      "/home/lsm/anaconda3/lib/python3.6/site-packages/pandas/core/indexing.py:537: SettingWithCopyWarning: \n",
      "A value is trying to be set on a copy of a slice from a DataFrame.\n",
      "Try using .loc[row_indexer,col_indexer] = value instead\n",
      "\n",
      "See the caveats in the documentation: http://pandas.pydata.org/pandas-docs/stable/indexing.html#indexing-view-versus-copy\n",
      "  self.obj[item] = s\n"
     ]
    }
   ],
   "source": [
    "comments_en.loc[:,'cleaned'] = comments_en.Review.apply(clean_comment)"
   ]
  },
  {
   "cell_type": "code",
   "execution_count": 17,
   "metadata": {
    "collapsed": true
   },
   "outputs": [],
   "source": [
    "from sklearn.dummy import DummyClassifier\n",
    "from sklearn.linear_model import LogisticRegression, RidgeClassifier, LassoCV\n",
    "from sklearn.naive_bayes import BernoulliNB, MultinomialNB\n",
    "from sklearn.neighbors import KNeighborsClassifier\n",
    "from sklearn.ensemble import RandomForestClassifier, GradientBoostingClassifier\n",
    "from sklearn.svm import SVC\n",
    "from sklearn.neural_network import MLPClassifier\n",
    "from sklearn.multiclass import OneVsRestClassifier\n",
    "from sklearn.model_selection import train_test_split\n",
    "from sklearn.metrics import classification_report\n",
    "from sklearn.model_selection import cross_val_score"
   ]
  },
  {
   "cell_type": "code",
   "execution_count": 121,
   "metadata": {
    "collapsed": true
   },
   "outputs": [],
   "source": [
    "from sklearn.feature_extraction.text import CountVectorizer, TfidfVectorizer\n",
    "vect = CountVectorizer(ngram_range = (1,3), analyzer = 'word',\n",
    "                       stop_words = 'english',\n",
    "                       max_features = 10000,\n",
    "                       binary = True,\n",
    "                       min_df = 2, max_df = 0.95).fit(comments_en.cleaned)\n",
    "feats = vect.transform(labeled.cleaned).toarray()\n",
    "labels = labeled.label.as_matrix()"
   ]
  },
  {
   "cell_type": "code",
   "execution_count": 122,
   "metadata": {
    "collapsed": true
   },
   "outputs": [],
   "source": [
    "from sklearn.neural_network import BernoulliRBM\n",
    "rbm = BernoulliRBM(n_components = 256)\n",
    "rbm = rbm.fit(feats)\n",
    "rbm_feats = rbm.transform(feats)"
   ]
  },
  {
   "cell_type": "code",
   "execution_count": 123,
   "metadata": {
    "collapsed": true
   },
   "outputs": [],
   "source": [
    "from sklearn.decomposition import PCA\n",
    "pca = PCA(n_components = 5).fit(rbm_feats)\n",
    "y = pca.transform(rbm_feats)"
   ]
  },
  {
   "cell_type": "code",
   "execution_count": 124,
   "metadata": {},
   "outputs": [
    {
     "data": {
      "application/javascript": [
       "/* Put everything inside the global mpl namespace */\n",
       "window.mpl = {};\n",
       "\n",
       "\n",
       "mpl.get_websocket_type = function() {\n",
       "    if (typeof(WebSocket) !== 'undefined') {\n",
       "        return WebSocket;\n",
       "    } else if (typeof(MozWebSocket) !== 'undefined') {\n",
       "        return MozWebSocket;\n",
       "    } else {\n",
       "        alert('Your browser does not have WebSocket support.' +\n",
       "              'Please try Chrome, Safari or Firefox ≥ 6. ' +\n",
       "              'Firefox 4 and 5 are also supported but you ' +\n",
       "              'have to enable WebSockets in about:config.');\n",
       "    };\n",
       "}\n",
       "\n",
       "mpl.figure = function(figure_id, websocket, ondownload, parent_element) {\n",
       "    this.id = figure_id;\n",
       "\n",
       "    this.ws = websocket;\n",
       "\n",
       "    this.supports_binary = (this.ws.binaryType != undefined);\n",
       "\n",
       "    if (!this.supports_binary) {\n",
       "        var warnings = document.getElementById(\"mpl-warnings\");\n",
       "        if (warnings) {\n",
       "            warnings.style.display = 'block';\n",
       "            warnings.textContent = (\n",
       "                \"This browser does not support binary websocket messages. \" +\n",
       "                    \"Performance may be slow.\");\n",
       "        }\n",
       "    }\n",
       "\n",
       "    this.imageObj = new Image();\n",
       "\n",
       "    this.context = undefined;\n",
       "    this.message = undefined;\n",
       "    this.canvas = undefined;\n",
       "    this.rubberband_canvas = undefined;\n",
       "    this.rubberband_context = undefined;\n",
       "    this.format_dropdown = undefined;\n",
       "\n",
       "    this.image_mode = 'full';\n",
       "\n",
       "    this.root = $('<div/>');\n",
       "    this._root_extra_style(this.root)\n",
       "    this.root.attr('style', 'display: inline-block');\n",
       "\n",
       "    $(parent_element).append(this.root);\n",
       "\n",
       "    this._init_header(this);\n",
       "    this._init_canvas(this);\n",
       "    this._init_toolbar(this);\n",
       "\n",
       "    var fig = this;\n",
       "\n",
       "    this.waiting = false;\n",
       "\n",
       "    this.ws.onopen =  function () {\n",
       "            fig.send_message(\"supports_binary\", {value: fig.supports_binary});\n",
       "            fig.send_message(\"send_image_mode\", {});\n",
       "            if (mpl.ratio != 1) {\n",
       "                fig.send_message(\"set_dpi_ratio\", {'dpi_ratio': mpl.ratio});\n",
       "            }\n",
       "            fig.send_message(\"refresh\", {});\n",
       "        }\n",
       "\n",
       "    this.imageObj.onload = function() {\n",
       "            if (fig.image_mode == 'full') {\n",
       "                // Full images could contain transparency (where diff images\n",
       "                // almost always do), so we need to clear the canvas so that\n",
       "                // there is no ghosting.\n",
       "                fig.context.clearRect(0, 0, fig.canvas.width, fig.canvas.height);\n",
       "            }\n",
       "            fig.context.drawImage(fig.imageObj, 0, 0);\n",
       "        };\n",
       "\n",
       "    this.imageObj.onunload = function() {\n",
       "        fig.ws.close();\n",
       "    }\n",
       "\n",
       "    this.ws.onmessage = this._make_on_message_function(this);\n",
       "\n",
       "    this.ondownload = ondownload;\n",
       "}\n",
       "\n",
       "mpl.figure.prototype._init_header = function() {\n",
       "    var titlebar = $(\n",
       "        '<div class=\"ui-dialog-titlebar ui-widget-header ui-corner-all ' +\n",
       "        'ui-helper-clearfix\"/>');\n",
       "    var titletext = $(\n",
       "        '<div class=\"ui-dialog-title\" style=\"width: 100%; ' +\n",
       "        'text-align: center; padding: 3px;\"/>');\n",
       "    titlebar.append(titletext)\n",
       "    this.root.append(titlebar);\n",
       "    this.header = titletext[0];\n",
       "}\n",
       "\n",
       "\n",
       "\n",
       "mpl.figure.prototype._canvas_extra_style = function(canvas_div) {\n",
       "\n",
       "}\n",
       "\n",
       "\n",
       "mpl.figure.prototype._root_extra_style = function(canvas_div) {\n",
       "\n",
       "}\n",
       "\n",
       "mpl.figure.prototype._init_canvas = function() {\n",
       "    var fig = this;\n",
       "\n",
       "    var canvas_div = $('<div/>');\n",
       "\n",
       "    canvas_div.attr('style', 'position: relative; clear: both; outline: 0');\n",
       "\n",
       "    function canvas_keyboard_event(event) {\n",
       "        return fig.key_event(event, event['data']);\n",
       "    }\n",
       "\n",
       "    canvas_div.keydown('key_press', canvas_keyboard_event);\n",
       "    canvas_div.keyup('key_release', canvas_keyboard_event);\n",
       "    this.canvas_div = canvas_div\n",
       "    this._canvas_extra_style(canvas_div)\n",
       "    this.root.append(canvas_div);\n",
       "\n",
       "    var canvas = $('<canvas/>');\n",
       "    canvas.addClass('mpl-canvas');\n",
       "    canvas.attr('style', \"left: 0; top: 0; z-index: 0; outline: 0\")\n",
       "\n",
       "    this.canvas = canvas[0];\n",
       "    this.context = canvas[0].getContext(\"2d\");\n",
       "\n",
       "    var backingStore = this.context.backingStorePixelRatio ||\n",
       "\tthis.context.webkitBackingStorePixelRatio ||\n",
       "\tthis.context.mozBackingStorePixelRatio ||\n",
       "\tthis.context.msBackingStorePixelRatio ||\n",
       "\tthis.context.oBackingStorePixelRatio ||\n",
       "\tthis.context.backingStorePixelRatio || 1;\n",
       "\n",
       "    mpl.ratio = (window.devicePixelRatio || 1) / backingStore;\n",
       "\n",
       "    var rubberband = $('<canvas/>');\n",
       "    rubberband.attr('style', \"position: absolute; left: 0; top: 0; z-index: 1;\")\n",
       "\n",
       "    var pass_mouse_events = true;\n",
       "\n",
       "    canvas_div.resizable({\n",
       "        start: function(event, ui) {\n",
       "            pass_mouse_events = false;\n",
       "        },\n",
       "        resize: function(event, ui) {\n",
       "            fig.request_resize(ui.size.width, ui.size.height);\n",
       "        },\n",
       "        stop: function(event, ui) {\n",
       "            pass_mouse_events = true;\n",
       "            fig.request_resize(ui.size.width, ui.size.height);\n",
       "        },\n",
       "    });\n",
       "\n",
       "    function mouse_event_fn(event) {\n",
       "        if (pass_mouse_events)\n",
       "            return fig.mouse_event(event, event['data']);\n",
       "    }\n",
       "\n",
       "    rubberband.mousedown('button_press', mouse_event_fn);\n",
       "    rubberband.mouseup('button_release', mouse_event_fn);\n",
       "    // Throttle sequential mouse events to 1 every 20ms.\n",
       "    rubberband.mousemove('motion_notify', mouse_event_fn);\n",
       "\n",
       "    rubberband.mouseenter('figure_enter', mouse_event_fn);\n",
       "    rubberband.mouseleave('figure_leave', mouse_event_fn);\n",
       "\n",
       "    canvas_div.on(\"wheel\", function (event) {\n",
       "        event = event.originalEvent;\n",
       "        event['data'] = 'scroll'\n",
       "        if (event.deltaY < 0) {\n",
       "            event.step = 1;\n",
       "        } else {\n",
       "            event.step = -1;\n",
       "        }\n",
       "        mouse_event_fn(event);\n",
       "    });\n",
       "\n",
       "    canvas_div.append(canvas);\n",
       "    canvas_div.append(rubberband);\n",
       "\n",
       "    this.rubberband = rubberband;\n",
       "    this.rubberband_canvas = rubberband[0];\n",
       "    this.rubberband_context = rubberband[0].getContext(\"2d\");\n",
       "    this.rubberband_context.strokeStyle = \"#000000\";\n",
       "\n",
       "    this._resize_canvas = function(width, height) {\n",
       "        // Keep the size of the canvas, canvas container, and rubber band\n",
       "        // canvas in synch.\n",
       "        canvas_div.css('width', width)\n",
       "        canvas_div.css('height', height)\n",
       "\n",
       "        canvas.attr('width', width * mpl.ratio);\n",
       "        canvas.attr('height', height * mpl.ratio);\n",
       "        canvas.attr('style', 'width: ' + width + 'px; height: ' + height + 'px;');\n",
       "\n",
       "        rubberband.attr('width', width);\n",
       "        rubberband.attr('height', height);\n",
       "    }\n",
       "\n",
       "    // Set the figure to an initial 600x600px, this will subsequently be updated\n",
       "    // upon first draw.\n",
       "    this._resize_canvas(600, 600);\n",
       "\n",
       "    // Disable right mouse context menu.\n",
       "    $(this.rubberband_canvas).bind(\"contextmenu\",function(e){\n",
       "        return false;\n",
       "    });\n",
       "\n",
       "    function set_focus () {\n",
       "        canvas.focus();\n",
       "        canvas_div.focus();\n",
       "    }\n",
       "\n",
       "    window.setTimeout(set_focus, 100);\n",
       "}\n",
       "\n",
       "mpl.figure.prototype._init_toolbar = function() {\n",
       "    var fig = this;\n",
       "\n",
       "    var nav_element = $('<div/>')\n",
       "    nav_element.attr('style', 'width: 100%');\n",
       "    this.root.append(nav_element);\n",
       "\n",
       "    // Define a callback function for later on.\n",
       "    function toolbar_event(event) {\n",
       "        return fig.toolbar_button_onclick(event['data']);\n",
       "    }\n",
       "    function toolbar_mouse_event(event) {\n",
       "        return fig.toolbar_button_onmouseover(event['data']);\n",
       "    }\n",
       "\n",
       "    for(var toolbar_ind in mpl.toolbar_items) {\n",
       "        var name = mpl.toolbar_items[toolbar_ind][0];\n",
       "        var tooltip = mpl.toolbar_items[toolbar_ind][1];\n",
       "        var image = mpl.toolbar_items[toolbar_ind][2];\n",
       "        var method_name = mpl.toolbar_items[toolbar_ind][3];\n",
       "\n",
       "        if (!name) {\n",
       "            // put a spacer in here.\n",
       "            continue;\n",
       "        }\n",
       "        var button = $('<button/>');\n",
       "        button.addClass('ui-button ui-widget ui-state-default ui-corner-all ' +\n",
       "                        'ui-button-icon-only');\n",
       "        button.attr('role', 'button');\n",
       "        button.attr('aria-disabled', 'false');\n",
       "        button.click(method_name, toolbar_event);\n",
       "        button.mouseover(tooltip, toolbar_mouse_event);\n",
       "\n",
       "        var icon_img = $('<span/>');\n",
       "        icon_img.addClass('ui-button-icon-primary ui-icon');\n",
       "        icon_img.addClass(image);\n",
       "        icon_img.addClass('ui-corner-all');\n",
       "\n",
       "        var tooltip_span = $('<span/>');\n",
       "        tooltip_span.addClass('ui-button-text');\n",
       "        tooltip_span.html(tooltip);\n",
       "\n",
       "        button.append(icon_img);\n",
       "        button.append(tooltip_span);\n",
       "\n",
       "        nav_element.append(button);\n",
       "    }\n",
       "\n",
       "    var fmt_picker_span = $('<span/>');\n",
       "\n",
       "    var fmt_picker = $('<select/>');\n",
       "    fmt_picker.addClass('mpl-toolbar-option ui-widget ui-widget-content');\n",
       "    fmt_picker_span.append(fmt_picker);\n",
       "    nav_element.append(fmt_picker_span);\n",
       "    this.format_dropdown = fmt_picker[0];\n",
       "\n",
       "    for (var ind in mpl.extensions) {\n",
       "        var fmt = mpl.extensions[ind];\n",
       "        var option = $(\n",
       "            '<option/>', {selected: fmt === mpl.default_extension}).html(fmt);\n",
       "        fmt_picker.append(option)\n",
       "    }\n",
       "\n",
       "    // Add hover states to the ui-buttons\n",
       "    $( \".ui-button\" ).hover(\n",
       "        function() { $(this).addClass(\"ui-state-hover\");},\n",
       "        function() { $(this).removeClass(\"ui-state-hover\");}\n",
       "    );\n",
       "\n",
       "    var status_bar = $('<span class=\"mpl-message\"/>');\n",
       "    nav_element.append(status_bar);\n",
       "    this.message = status_bar[0];\n",
       "}\n",
       "\n",
       "mpl.figure.prototype.request_resize = function(x_pixels, y_pixels) {\n",
       "    // Request matplotlib to resize the figure. Matplotlib will then trigger a resize in the client,\n",
       "    // which will in turn request a refresh of the image.\n",
       "    this.send_message('resize', {'width': x_pixels, 'height': y_pixels});\n",
       "}\n",
       "\n",
       "mpl.figure.prototype.send_message = function(type, properties) {\n",
       "    properties['type'] = type;\n",
       "    properties['figure_id'] = this.id;\n",
       "    this.ws.send(JSON.stringify(properties));\n",
       "}\n",
       "\n",
       "mpl.figure.prototype.send_draw_message = function() {\n",
       "    if (!this.waiting) {\n",
       "        this.waiting = true;\n",
       "        this.ws.send(JSON.stringify({type: \"draw\", figure_id: this.id}));\n",
       "    }\n",
       "}\n",
       "\n",
       "\n",
       "mpl.figure.prototype.handle_save = function(fig, msg) {\n",
       "    var format_dropdown = fig.format_dropdown;\n",
       "    var format = format_dropdown.options[format_dropdown.selectedIndex].value;\n",
       "    fig.ondownload(fig, format);\n",
       "}\n",
       "\n",
       "\n",
       "mpl.figure.prototype.handle_resize = function(fig, msg) {\n",
       "    var size = msg['size'];\n",
       "    if (size[0] != fig.canvas.width || size[1] != fig.canvas.height) {\n",
       "        fig._resize_canvas(size[0], size[1]);\n",
       "        fig.send_message(\"refresh\", {});\n",
       "    };\n",
       "}\n",
       "\n",
       "mpl.figure.prototype.handle_rubberband = function(fig, msg) {\n",
       "    var x0 = msg['x0'] / mpl.ratio;\n",
       "    var y0 = (fig.canvas.height - msg['y0']) / mpl.ratio;\n",
       "    var x1 = msg['x1'] / mpl.ratio;\n",
       "    var y1 = (fig.canvas.height - msg['y1']) / mpl.ratio;\n",
       "    x0 = Math.floor(x0) + 0.5;\n",
       "    y0 = Math.floor(y0) + 0.5;\n",
       "    x1 = Math.floor(x1) + 0.5;\n",
       "    y1 = Math.floor(y1) + 0.5;\n",
       "    var min_x = Math.min(x0, x1);\n",
       "    var min_y = Math.min(y0, y1);\n",
       "    var width = Math.abs(x1 - x0);\n",
       "    var height = Math.abs(y1 - y0);\n",
       "\n",
       "    fig.rubberband_context.clearRect(\n",
       "        0, 0, fig.canvas.width, fig.canvas.height);\n",
       "\n",
       "    fig.rubberband_context.strokeRect(min_x, min_y, width, height);\n",
       "}\n",
       "\n",
       "mpl.figure.prototype.handle_figure_label = function(fig, msg) {\n",
       "    // Updates the figure title.\n",
       "    fig.header.textContent = msg['label'];\n",
       "}\n",
       "\n",
       "mpl.figure.prototype.handle_cursor = function(fig, msg) {\n",
       "    var cursor = msg['cursor'];\n",
       "    switch(cursor)\n",
       "    {\n",
       "    case 0:\n",
       "        cursor = 'pointer';\n",
       "        break;\n",
       "    case 1:\n",
       "        cursor = 'default';\n",
       "        break;\n",
       "    case 2:\n",
       "        cursor = 'crosshair';\n",
       "        break;\n",
       "    case 3:\n",
       "        cursor = 'move';\n",
       "        break;\n",
       "    }\n",
       "    fig.rubberband_canvas.style.cursor = cursor;\n",
       "}\n",
       "\n",
       "mpl.figure.prototype.handle_message = function(fig, msg) {\n",
       "    fig.message.textContent = msg['message'];\n",
       "}\n",
       "\n",
       "mpl.figure.prototype.handle_draw = function(fig, msg) {\n",
       "    // Request the server to send over a new figure.\n",
       "    fig.send_draw_message();\n",
       "}\n",
       "\n",
       "mpl.figure.prototype.handle_image_mode = function(fig, msg) {\n",
       "    fig.image_mode = msg['mode'];\n",
       "}\n",
       "\n",
       "mpl.figure.prototype.updated_canvas_event = function() {\n",
       "    // Called whenever the canvas gets updated.\n",
       "    this.send_message(\"ack\", {});\n",
       "}\n",
       "\n",
       "// A function to construct a web socket function for onmessage handling.\n",
       "// Called in the figure constructor.\n",
       "mpl.figure.prototype._make_on_message_function = function(fig) {\n",
       "    return function socket_on_message(evt) {\n",
       "        if (evt.data instanceof Blob) {\n",
       "            /* FIXME: We get \"Resource interpreted as Image but\n",
       "             * transferred with MIME type text/plain:\" errors on\n",
       "             * Chrome.  But how to set the MIME type?  It doesn't seem\n",
       "             * to be part of the websocket stream */\n",
       "            evt.data.type = \"image/png\";\n",
       "\n",
       "            /* Free the memory for the previous frames */\n",
       "            if (fig.imageObj.src) {\n",
       "                (window.URL || window.webkitURL).revokeObjectURL(\n",
       "                    fig.imageObj.src);\n",
       "            }\n",
       "\n",
       "            fig.imageObj.src = (window.URL || window.webkitURL).createObjectURL(\n",
       "                evt.data);\n",
       "            fig.updated_canvas_event();\n",
       "            fig.waiting = false;\n",
       "            return;\n",
       "        }\n",
       "        else if (typeof evt.data === 'string' && evt.data.slice(0, 21) == \"data:image/png;base64\") {\n",
       "            fig.imageObj.src = evt.data;\n",
       "            fig.updated_canvas_event();\n",
       "            fig.waiting = false;\n",
       "            return;\n",
       "        }\n",
       "\n",
       "        var msg = JSON.parse(evt.data);\n",
       "        var msg_type = msg['type'];\n",
       "\n",
       "        // Call the  \"handle_{type}\" callback, which takes\n",
       "        // the figure and JSON message as its only arguments.\n",
       "        try {\n",
       "            var callback = fig[\"handle_\" + msg_type];\n",
       "        } catch (e) {\n",
       "            console.log(\"No handler for the '\" + msg_type + \"' message type: \", msg);\n",
       "            return;\n",
       "        }\n",
       "\n",
       "        if (callback) {\n",
       "            try {\n",
       "                // console.log(\"Handling '\" + msg_type + \"' message: \", msg);\n",
       "                callback(fig, msg);\n",
       "            } catch (e) {\n",
       "                console.log(\"Exception inside the 'handler_\" + msg_type + \"' callback:\", e, e.stack, msg);\n",
       "            }\n",
       "        }\n",
       "    };\n",
       "}\n",
       "\n",
       "// from http://stackoverflow.com/questions/1114465/getting-mouse-location-in-canvas\n",
       "mpl.findpos = function(e) {\n",
       "    //this section is from http://www.quirksmode.org/js/events_properties.html\n",
       "    var targ;\n",
       "    if (!e)\n",
       "        e = window.event;\n",
       "    if (e.target)\n",
       "        targ = e.target;\n",
       "    else if (e.srcElement)\n",
       "        targ = e.srcElement;\n",
       "    if (targ.nodeType == 3) // defeat Safari bug\n",
       "        targ = targ.parentNode;\n",
       "\n",
       "    // jQuery normalizes the pageX and pageY\n",
       "    // pageX,Y are the mouse positions relative to the document\n",
       "    // offset() returns the position of the element relative to the document\n",
       "    var x = e.pageX - $(targ).offset().left;\n",
       "    var y = e.pageY - $(targ).offset().top;\n",
       "\n",
       "    return {\"x\": x, \"y\": y};\n",
       "};\n",
       "\n",
       "/*\n",
       " * return a copy of an object with only non-object keys\n",
       " * we need this to avoid circular references\n",
       " * http://stackoverflow.com/a/24161582/3208463\n",
       " */\n",
       "function simpleKeys (original) {\n",
       "  return Object.keys(original).reduce(function (obj, key) {\n",
       "    if (typeof original[key] !== 'object')\n",
       "        obj[key] = original[key]\n",
       "    return obj;\n",
       "  }, {});\n",
       "}\n",
       "\n",
       "mpl.figure.prototype.mouse_event = function(event, name) {\n",
       "    var canvas_pos = mpl.findpos(event)\n",
       "\n",
       "    if (name === 'button_press')\n",
       "    {\n",
       "        this.canvas.focus();\n",
       "        this.canvas_div.focus();\n",
       "    }\n",
       "\n",
       "    var x = canvas_pos.x * mpl.ratio;\n",
       "    var y = canvas_pos.y * mpl.ratio;\n",
       "\n",
       "    this.send_message(name, {x: x, y: y, button: event.button,\n",
       "                             step: event.step,\n",
       "                             guiEvent: simpleKeys(event)});\n",
       "\n",
       "    /* This prevents the web browser from automatically changing to\n",
       "     * the text insertion cursor when the button is pressed.  We want\n",
       "     * to control all of the cursor setting manually through the\n",
       "     * 'cursor' event from matplotlib */\n",
       "    event.preventDefault();\n",
       "    return false;\n",
       "}\n",
       "\n",
       "mpl.figure.prototype._key_event_extra = function(event, name) {\n",
       "    // Handle any extra behaviour associated with a key event\n",
       "}\n",
       "\n",
       "mpl.figure.prototype.key_event = function(event, name) {\n",
       "\n",
       "    // Prevent repeat events\n",
       "    if (name == 'key_press')\n",
       "    {\n",
       "        if (event.which === this._key)\n",
       "            return;\n",
       "        else\n",
       "            this._key = event.which;\n",
       "    }\n",
       "    if (name == 'key_release')\n",
       "        this._key = null;\n",
       "\n",
       "    var value = '';\n",
       "    if (event.ctrlKey && event.which != 17)\n",
       "        value += \"ctrl+\";\n",
       "    if (event.altKey && event.which != 18)\n",
       "        value += \"alt+\";\n",
       "    if (event.shiftKey && event.which != 16)\n",
       "        value += \"shift+\";\n",
       "\n",
       "    value += 'k';\n",
       "    value += event.which.toString();\n",
       "\n",
       "    this._key_event_extra(event, name);\n",
       "\n",
       "    this.send_message(name, {key: value,\n",
       "                             guiEvent: simpleKeys(event)});\n",
       "    return false;\n",
       "}\n",
       "\n",
       "mpl.figure.prototype.toolbar_button_onclick = function(name) {\n",
       "    if (name == 'download') {\n",
       "        this.handle_save(this, null);\n",
       "    } else {\n",
       "        this.send_message(\"toolbar_button\", {name: name});\n",
       "    }\n",
       "};\n",
       "\n",
       "mpl.figure.prototype.toolbar_button_onmouseover = function(tooltip) {\n",
       "    this.message.textContent = tooltip;\n",
       "};\n",
       "mpl.toolbar_items = [[\"Home\", \"Reset original view\", \"fa fa-home icon-home\", \"home\"], [\"Back\", \"Back to  previous view\", \"fa fa-arrow-left icon-arrow-left\", \"back\"], [\"Forward\", \"Forward to next view\", \"fa fa-arrow-right icon-arrow-right\", \"forward\"], [\"\", \"\", \"\", \"\"], [\"Pan\", \"Pan axes with left mouse, zoom with right\", \"fa fa-arrows icon-move\", \"pan\"], [\"Zoom\", \"Zoom to rectangle\", \"fa fa-square-o icon-check-empty\", \"zoom\"], [\"\", \"\", \"\", \"\"], [\"Download\", \"Download plot\", \"fa fa-floppy-o icon-save\", \"download\"]];\n",
       "\n",
       "mpl.extensions = [\"eps\", \"jpeg\", \"pdf\", \"png\", \"ps\", \"raw\", \"svg\", \"tif\"];\n",
       "\n",
       "mpl.default_extension = \"png\";var comm_websocket_adapter = function(comm) {\n",
       "    // Create a \"websocket\"-like object which calls the given IPython comm\n",
       "    // object with the appropriate methods. Currently this is a non binary\n",
       "    // socket, so there is still some room for performance tuning.\n",
       "    var ws = {};\n",
       "\n",
       "    ws.close = function() {\n",
       "        comm.close()\n",
       "    };\n",
       "    ws.send = function(m) {\n",
       "        //console.log('sending', m);\n",
       "        comm.send(m);\n",
       "    };\n",
       "    // Register the callback with on_msg.\n",
       "    comm.on_msg(function(msg) {\n",
       "        //console.log('receiving', msg['content']['data'], msg);\n",
       "        // Pass the mpl event to the overriden (by mpl) onmessage function.\n",
       "        ws.onmessage(msg['content']['data'])\n",
       "    });\n",
       "    return ws;\n",
       "}\n",
       "\n",
       "mpl.mpl_figure_comm = function(comm, msg) {\n",
       "    // This is the function which gets called when the mpl process\n",
       "    // starts-up an IPython Comm through the \"matplotlib\" channel.\n",
       "\n",
       "    var id = msg.content.data.id;\n",
       "    // Get hold of the div created by the display call when the Comm\n",
       "    // socket was opened in Python.\n",
       "    var element = $(\"#\" + id);\n",
       "    var ws_proxy = comm_websocket_adapter(comm)\n",
       "\n",
       "    function ondownload(figure, format) {\n",
       "        window.open(figure.imageObj.src);\n",
       "    }\n",
       "\n",
       "    var fig = new mpl.figure(id, ws_proxy,\n",
       "                           ondownload,\n",
       "                           element.get(0));\n",
       "\n",
       "    // Call onopen now - mpl needs it, as it is assuming we've passed it a real\n",
       "    // web socket which is closed, not our websocket->open comm proxy.\n",
       "    ws_proxy.onopen();\n",
       "\n",
       "    fig.parent_element = element.get(0);\n",
       "    fig.cell_info = mpl.find_output_cell(\"<div id='\" + id + \"'></div>\");\n",
       "    if (!fig.cell_info) {\n",
       "        console.error(\"Failed to find cell for figure\", id, fig);\n",
       "        return;\n",
       "    }\n",
       "\n",
       "    var output_index = fig.cell_info[2]\n",
       "    var cell = fig.cell_info[0];\n",
       "\n",
       "};\n",
       "\n",
       "mpl.figure.prototype.handle_close = function(fig, msg) {\n",
       "    var width = fig.canvas.width/mpl.ratio\n",
       "    fig.root.unbind('remove')\n",
       "\n",
       "    // Update the output cell to use the data from the current canvas.\n",
       "    fig.push_to_output();\n",
       "    var dataURL = fig.canvas.toDataURL();\n",
       "    // Re-enable the keyboard manager in IPython - without this line, in FF,\n",
       "    // the notebook keyboard shortcuts fail.\n",
       "    IPython.keyboard_manager.enable()\n",
       "    $(fig.parent_element).html('<img src=\"' + dataURL + '\" width=\"' + width + '\">');\n",
       "    fig.close_ws(fig, msg);\n",
       "}\n",
       "\n",
       "mpl.figure.prototype.close_ws = function(fig, msg){\n",
       "    fig.send_message('closing', msg);\n",
       "    // fig.ws.close()\n",
       "}\n",
       "\n",
       "mpl.figure.prototype.push_to_output = function(remove_interactive) {\n",
       "    // Turn the data on the canvas into data in the output cell.\n",
       "    var width = this.canvas.width/mpl.ratio\n",
       "    var dataURL = this.canvas.toDataURL();\n",
       "    this.cell_info[1]['text/html'] = '<img src=\"' + dataURL + '\" width=\"' + width + '\">';\n",
       "}\n",
       "\n",
       "mpl.figure.prototype.updated_canvas_event = function() {\n",
       "    // Tell IPython that the notebook contents must change.\n",
       "    IPython.notebook.set_dirty(true);\n",
       "    this.send_message(\"ack\", {});\n",
       "    var fig = this;\n",
       "    // Wait a second, then push the new image to the DOM so\n",
       "    // that it is saved nicely (might be nice to debounce this).\n",
       "    setTimeout(function () { fig.push_to_output() }, 1000);\n",
       "}\n",
       "\n",
       "mpl.figure.prototype._init_toolbar = function() {\n",
       "    var fig = this;\n",
       "\n",
       "    var nav_element = $('<div/>')\n",
       "    nav_element.attr('style', 'width: 100%');\n",
       "    this.root.append(nav_element);\n",
       "\n",
       "    // Define a callback function for later on.\n",
       "    function toolbar_event(event) {\n",
       "        return fig.toolbar_button_onclick(event['data']);\n",
       "    }\n",
       "    function toolbar_mouse_event(event) {\n",
       "        return fig.toolbar_button_onmouseover(event['data']);\n",
       "    }\n",
       "\n",
       "    for(var toolbar_ind in mpl.toolbar_items){\n",
       "        var name = mpl.toolbar_items[toolbar_ind][0];\n",
       "        var tooltip = mpl.toolbar_items[toolbar_ind][1];\n",
       "        var image = mpl.toolbar_items[toolbar_ind][2];\n",
       "        var method_name = mpl.toolbar_items[toolbar_ind][3];\n",
       "\n",
       "        if (!name) { continue; };\n",
       "\n",
       "        var button = $('<button class=\"btn btn-default\" href=\"#\" title=\"' + name + '\"><i class=\"fa ' + image + ' fa-lg\"></i></button>');\n",
       "        button.click(method_name, toolbar_event);\n",
       "        button.mouseover(tooltip, toolbar_mouse_event);\n",
       "        nav_element.append(button);\n",
       "    }\n",
       "\n",
       "    // Add the status bar.\n",
       "    var status_bar = $('<span class=\"mpl-message\" style=\"text-align:right; float: right;\"/>');\n",
       "    nav_element.append(status_bar);\n",
       "    this.message = status_bar[0];\n",
       "\n",
       "    // Add the close button to the window.\n",
       "    var buttongrp = $('<div class=\"btn-group inline pull-right\"></div>');\n",
       "    var button = $('<button class=\"btn btn-mini btn-primary\" href=\"#\" title=\"Stop Interaction\"><i class=\"fa fa-power-off icon-remove icon-large\"></i></button>');\n",
       "    button.click(function (evt) { fig.handle_close(fig, {}); } );\n",
       "    button.mouseover('Stop Interaction', toolbar_mouse_event);\n",
       "    buttongrp.append(button);\n",
       "    var titlebar = this.root.find($('.ui-dialog-titlebar'));\n",
       "    titlebar.prepend(buttongrp);\n",
       "}\n",
       "\n",
       "mpl.figure.prototype._root_extra_style = function(el){\n",
       "    var fig = this\n",
       "    el.on(\"remove\", function(){\n",
       "\tfig.close_ws(fig, {});\n",
       "    });\n",
       "}\n",
       "\n",
       "mpl.figure.prototype._canvas_extra_style = function(el){\n",
       "    // this is important to make the div 'focusable\n",
       "    el.attr('tabindex', 0)\n",
       "    // reach out to IPython and tell the keyboard manager to turn it's self\n",
       "    // off when our div gets focus\n",
       "\n",
       "    // location in version 3\n",
       "    if (IPython.notebook.keyboard_manager) {\n",
       "        IPython.notebook.keyboard_manager.register_events(el);\n",
       "    }\n",
       "    else {\n",
       "        // location in version 2\n",
       "        IPython.keyboard_manager.register_events(el);\n",
       "    }\n",
       "\n",
       "}\n",
       "\n",
       "mpl.figure.prototype._key_event_extra = function(event, name) {\n",
       "    var manager = IPython.notebook.keyboard_manager;\n",
       "    if (!manager)\n",
       "        manager = IPython.keyboard_manager;\n",
       "\n",
       "    // Check for shift+enter\n",
       "    if (event.shiftKey && event.which == 13) {\n",
       "        this.canvas_div.blur();\n",
       "        event.shiftKey = false;\n",
       "        // Send a \"J\" for go to next cell\n",
       "        event.which = 74;\n",
       "        event.keyCode = 74;\n",
       "        manager.command_mode();\n",
       "        manager.handle_keydown(event);\n",
       "    }\n",
       "}\n",
       "\n",
       "mpl.figure.prototype.handle_save = function(fig, msg) {\n",
       "    fig.ondownload(fig, null);\n",
       "}\n",
       "\n",
       "\n",
       "mpl.find_output_cell = function(html_output) {\n",
       "    // Return the cell and output element which can be found *uniquely* in the notebook.\n",
       "    // Note - this is a bit hacky, but it is done because the \"notebook_saving.Notebook\"\n",
       "    // IPython event is triggered only after the cells have been serialised, which for\n",
       "    // our purposes (turning an active figure into a static one), is too late.\n",
       "    var cells = IPython.notebook.get_cells();\n",
       "    var ncells = cells.length;\n",
       "    for (var i=0; i<ncells; i++) {\n",
       "        var cell = cells[i];\n",
       "        if (cell.cell_type === 'code'){\n",
       "            for (var j=0; j<cell.output_area.outputs.length; j++) {\n",
       "                var data = cell.output_area.outputs[j];\n",
       "                if (data.data) {\n",
       "                    // IPython >= 3 moved mimebundle to data attribute of output\n",
       "                    data = data.data;\n",
       "                }\n",
       "                if (data['text/html'] == html_output) {\n",
       "                    return [cell, data, j];\n",
       "                }\n",
       "            }\n",
       "        }\n",
       "    }\n",
       "}\n",
       "\n",
       "// Register the function which deals with the matplotlib target/channel.\n",
       "// The kernel may be null if the page has been refreshed.\n",
       "if (IPython.notebook.kernel != null) {\n",
       "    IPython.notebook.kernel.comm_manager.register_target('matplotlib', mpl.mpl_figure_comm);\n",
       "}\n"
      ],
      "text/plain": [
       "<IPython.core.display.Javascript object>"
      ]
     },
     "metadata": {},
     "output_type": "display_data"
    },
    {
     "data": {
      "text/html": [
       "<img src=\"data:image/png;base64,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\" width=\"640\">"
      ],
      "text/plain": [
       "<IPython.core.display.HTML object>"
      ]
     },
     "metadata": {},
     "output_type": "display_data"
    },
    {
     "data": {
      "text/plain": [
       "<matplotlib.collections.PathCollection at 0x7f9cd96eae80>"
      ]
     },
     "execution_count": 124,
     "metadata": {},
     "output_type": "execute_result"
    }
   ],
   "source": [
    "%matplotlib notebook\n",
    "import matplotlib.pyplot as plt\n",
    "colors = [int(i % 23) for i in labeled.label]\n",
    "plt.scatter(y[:,0], y[:,1],c = colors)"
   ]
  },
  {
   "cell_type": "code",
   "execution_count": 125,
   "metadata": {
    "collapsed": true
   },
   "outputs": [],
   "source": [
    "def eval_model(y_train,y_test,y_train_pred,y_test_pred):\n",
    "    \n",
    "    class_names = ['unknown',\n",
    "        'Crash',\n",
    "        'Balance problems',\n",
    "        'Synchronization',\n",
    "        'Positive',\n",
    "        'Bug']\n",
    "    \n",
    "    class_names_b = ['neg', 'pos']\n",
    "    print('train scores\\n')\n",
    "    print(classification_report(y_train, y_train_pred, target_names = class_names))\n",
    "    print('test scores\\n')\n",
    "    print(classification_report(y_test, y_test_pred, target_names = class_names))"
   ]
  },
  {
   "cell_type": "code",
   "execution_count": 126,
   "metadata": {},
   "outputs": [
    {
     "data": {
      "text/plain": [
       "(4000, 10000)"
      ]
     },
     "execution_count": 126,
     "metadata": {},
     "output_type": "execute_result"
    }
   ],
   "source": [
    "feats.shape"
   ]
  },
  {
   "cell_type": "code",
   "execution_count": 127,
   "metadata": {
    "collapsed": true
   },
   "outputs": [],
   "source": [
    "X_train, X_test, y_train, y_test = train_test_split(rbm_feats, labels, test_size=0.2)"
   ]
  },
  {
   "cell_type": "code",
   "execution_count": 128,
   "metadata": {},
   "outputs": [
    {
     "name": "stdout",
     "output_type": "stream",
     "text": [
      "train scores\n",
      "\n",
      "                  precision    recall  f1-score   support\n",
      "\n",
      "         unknown       0.09      0.03      0.04       229\n",
      "           Crash       0.00      0.00      0.00        27\n",
      "Balance problems       0.28      0.09      0.14       659\n",
      " Synchronization       0.06      0.02      0.03       110\n",
      "        Positive       0.61      0.57      0.59      1926\n",
      "             Bug       0.08      0.34      0.13       249\n",
      "\n",
      "     avg / total       0.44      0.39      0.40      3200\n",
      "\n",
      "test scores\n",
      "\n",
      "                  precision    recall  f1-score   support\n",
      "\n",
      "         unknown       0.11      0.04      0.06        51\n",
      "           Crash       0.50      0.12      0.20         8\n",
      "Balance problems       0.22      0.09      0.13       141\n",
      " Synchronization       0.25      0.11      0.15        19\n",
      "        Positive       0.64      0.55      0.59       509\n",
      "             Bug       0.09      0.35      0.14        72\n",
      "\n",
      "     avg / total       0.47      0.40      0.42       800\n",
      "\n",
      "cross_val_score: 0.3792\n"
     ]
    }
   ],
   "source": [
    "m = OneVsRestClassifier(DummyClassifier()).fit(X_train, y_train)\n",
    "y_train_pred = m.predict(X_train)\n",
    "y_test_pred = m.predict(X_test)\n",
    "eval_model(y_train,y_test,y_train_pred,y_test_pred)\n",
    "print('cross_val_score: %1.4f'% (np.mean(cross_val_score(m, feats,labels))))"
   ]
  },
  {
   "cell_type": "code",
   "execution_count": 129,
   "metadata": {},
   "outputs": [
    {
     "name": "stdout",
     "output_type": "stream",
     "text": [
      "train scores\n",
      "\n",
      "                  precision    recall  f1-score   support\n",
      "\n",
      "         unknown       0.08      0.93      0.15       229\n",
      "           Crash       0.00      0.00      0.00        27\n",
      "Balance problems       0.46      0.45      0.46       659\n",
      " Synchronization       0.00      0.00      0.00       110\n",
      "        Positive       0.76      0.01      0.01      1926\n",
      "             Bug       0.00      0.00      0.00       249\n",
      "\n",
      "     avg / total       0.56      0.16      0.11      3200\n",
      "\n",
      "test scores\n",
      "\n",
      "                  precision    recall  f1-score   support\n",
      "\n",
      "         unknown       0.08      1.00      0.15        51\n",
      "           Crash       0.00      0.00      0.00         8\n",
      "Balance problems       0.43      0.48      0.45       141\n",
      " Synchronization       0.00      0.00      0.00        19\n",
      "        Positive       0.67      0.00      0.01       509\n",
      "             Bug       0.00      0.00      0.00        72\n",
      "\n",
      "     avg / total       0.51      0.15      0.09       800\n",
      "\n"
     ]
    },
    {
     "name": "stderr",
     "output_type": "stream",
     "text": [
      "/home/lsm/anaconda3/lib/python3.6/site-packages/sklearn/metrics/classification.py:1135: UndefinedMetricWarning: Precision and F-score are ill-defined and being set to 0.0 in labels with no predicted samples.\n",
      "  'precision', 'predicted', average, warn_for)\n"
     ]
    },
    {
     "name": "stdout",
     "output_type": "stream",
     "text": [
      "cross_val_score: 0.6802\n"
     ]
    }
   ],
   "source": [
    "m = RidgeClassifier(class_weight = 'balanced', alpha = 0.01).fit(X_train, y_train)\n",
    "y_train_pred = m.predict(X_train)\n",
    "y_test_pred = m.predict(X_test)\n",
    "eval_model(y_train,y_test,y_train_pred,y_test_pred)\n",
    "print('cross_val_score: %1.4f'% (np.mean(cross_val_score(m, feats,labels))))"
   ]
  },
  {
   "cell_type": "code",
   "execution_count": 130,
   "metadata": {},
   "outputs": [
    {
     "name": "stdout",
     "output_type": "stream",
     "text": [
      "                  precision    recall  f1-score   support\n",
      "\n",
      "           Other       0.50      0.90      0.64        10\n",
      "           Crash       0.00      0.00      0.00        10\n",
      "Balance problems       0.24      1.00      0.38        10\n",
      " Synchronization       0.00      0.00      0.00        10\n",
      "        Positive       0.00      0.00      0.00        10\n",
      "             Bug       0.00      0.00      0.00        10\n",
      "\n",
      "     avg / total       0.12      0.32      0.17        60\n",
      "\n"
     ]
    },
    {
     "name": "stderr",
     "output_type": "stream",
     "text": [
      "/home/lsm/anaconda3/lib/python3.6/site-packages/sklearn/metrics/classification.py:1135: UndefinedMetricWarning: Precision and F-score are ill-defined and being set to 0.0 in labels with no predicted samples.\n",
      "  'precision', 'predicted', average, warn_for)\n"
     ]
    }
   ],
   "source": [
    "from sklearn.metrics import f1_score,roc_auc_score,accuracy_score\n",
    "def eval_classifier(input_text,model = m):\n",
    "    cleaned_text = clean_comment(input_text)\n",
    "    feats = vect.transform([cleaned_text])\n",
    "    rbm_feats = rbm.transform(feats)\n",
    "    class_names = ['Other',\n",
    "        'Crash',\n",
    "        'Balance problems',\n",
    "        'Synchronization',\n",
    "        'Positive',\n",
    "        'Bug']\n",
    "    prediction = model.predict(rbm_feats)\n",
    "    #print(class_names[prediction[0]])\n",
    "    return prediction[0]\n",
    "def val_score(model):\n",
    "    class_names = ['Other',\n",
    "        'Crash',\n",
    "        'Balance problems',\n",
    "        'Synchronization',\n",
    "        'Positive',\n",
    "        'Bug']    \n",
    "    val_en = pd.read_excel('validation_en.xlsx')\n",
    "    y_true = []\n",
    "    y_pred = []\n",
    "    for i in range(0,6):\n",
    "        y_true.append([i]*10)\n",
    "        y_pred.append(val_en.iloc[:,i].apply(eval_classifier))\n",
    "    y_true = np.array(y_true).flatten()\n",
    "    y_pred = np.array(y_pred).flatten()\n",
    "    print(classification_report(y_true, y_pred, target_names = class_names))\n",
    "    return y_true,y_pred\n",
    "y_true,y_pred = val_score(m)"
   ]
  },
  {
   "cell_type": "code",
   "execution_count": 131,
   "metadata": {},
   "outputs": [
    {
     "data": {
      "text/plain": [
       "0"
      ]
     },
     "execution_count": 131,
     "metadata": {},
     "output_type": "execute_result"
    }
   ],
   "source": [
    "eval_classifier('this dum gaem crashes every time i launch it')"
   ]
  },
  {
   "cell_type": "code",
   "execution_count": 132,
   "metadata": {},
   "outputs": [
    {
     "data": {
      "text/plain": [
       "0"
      ]
     },
     "execution_count": 132,
     "metadata": {},
     "output_type": "execute_result"
    }
   ],
   "source": [
    "eval_classifier('the new up date made game sooo unfair')"
   ]
  },
  {
   "cell_type": "code",
   "execution_count": 133,
   "metadata": {},
   "outputs": [
    {
     "data": {
      "text/plain": [
       "0"
      ]
     },
     "execution_count": 133,
     "metadata": {},
     "output_type": "execute_result"
    }
   ],
   "source": [
    "eval_classifier('the game glitched and all of my guns are lost!')"
   ]
  },
  {
   "cell_type": "code",
   "execution_count": 134,
   "metadata": {},
   "outputs": [
    {
     "data": {
      "text/plain": [
       "0"
      ]
     },
     "execution_count": 134,
     "metadata": {},
     "output_type": "execute_result"
    }
   ],
   "source": [
    "eval_classifier('Cool!')"
   ]
  },
  {
   "cell_type": "code",
   "execution_count": 135,
   "metadata": {},
   "outputs": [
    {
     "data": {
      "text/plain": [
       "0"
      ]
     },
     "execution_count": 135,
     "metadata": {},
     "output_type": "execute_result"
    }
   ],
   "source": [
    "eval_classifier('This game is haard to control')"
   ]
  },
  {
   "cell_type": "code",
   "execution_count": null,
   "metadata": {
    "collapsed": true
   },
   "outputs": [],
   "source": []
  }
 ],
 "metadata": {
  "kernelspec": {
   "display_name": "Python 3",
   "language": "python",
   "name": "python3"
  },
  "language_info": {
   "codemirror_mode": {
    "name": "ipython",
    "version": 3
   },
   "file_extension": ".py",
   "mimetype": "text/x-python",
   "name": "python",
   "nbconvert_exporter": "python",
   "pygments_lexer": "ipython3",
   "version": "3.6.4"
  }
 },
 "nbformat": 4,
 "nbformat_minor": 2
}
